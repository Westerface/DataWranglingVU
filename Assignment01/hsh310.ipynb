{
  "nbformat": 4,
  "nbformat_minor": 0,
  "metadata": {
    "kernelspec": {
      "display_name": "Python 3",
      "language": "python3",
      "name": "python3"
    },
    "language_info": {
      "codemirror_mode": {
        "name": "ipython",
        "version": 3
      },
      "file_extension": ".py",
      "mimetype": "text/x-python",
      "name": "python",
      "nbconvert_exporter": "python",
      "pygments_lexer": "ipython3",
      "version": "3.7.1"
    },
    "colab": {
      "name": "assignment01.ipynb",
      "provenance": []
    }
  },
  "cells": [
    {
      "cell_type": "markdown",
      "metadata": {
        "id": "DUs3Ppo704cc",
        "colab_type": "text"
      },
      "source": [
        "# Assignment 1"
      ]
    },
    {
      "cell_type": "code",
      "metadata": {
        "deletable": false,
        "editable": false,
        "nbgrader": {
          "checksum": "2e79fc5d76b21c640be183c076396cc5",
          "grade": false,
          "grade_id": "libraries",
          "locked": true,
          "schema_version": 1,
          "solution": false
        },
        "id": "OhHlV22604cf",
        "colab_type": "code",
        "colab": {}
      },
      "source": [
        "# read neccessary libraries\n",
        "import numpy as np\n",
        "import pandas as pd\n",
        "pd.options.display.max_rows = 20\n",
        "np.set_printoptions(precision = 4, suppress = True)"
      ],
      "execution_count": 0,
      "outputs": []
    },
    {
      "cell_type": "markdown",
      "metadata": {
        "id": "Ycv_y4Lr04ci",
        "colab_type": "text"
      },
      "source": [
        "### Manufacturing processes\n",
        "The file listed below contains data on a manufacturing process. Certain configurations of biological materials and manufacturing processes result in a specific yield. Compute the average yield over all records and assign that value to the variable *avg_yield*."
      ]
    },
    {
      "cell_type": "code",
      "metadata": {
        "deletable": false,
        "nbgrader": {
          "checksum": "dfaf57cb147090ff207d0757b073822b",
          "grade": false,
          "grade_id": "yield",
          "locked": false,
          "schema_version": 1,
          "solution": true
        },
        "id": "FFc_GpgA04cj",
        "colab_type": "code",
        "outputId": "2267b4f5-bab3-4c40-bbce-e7653736a797",
        "colab": {
          "base_uri": "https://localhost:8080/",
          "height": 34
        }
      },
      "source": [
        "file = 'https://raw.githubusercontent.com/harditsingh/DataWranglingVU/master/Assignment01/manufacturing.csv'\n",
        "\n",
        "# YOUR CODE HERE\n",
        "df = pd.read_csv(file)\n",
        "avg_yield = np.mean(df['Yield'])\n",
        "print(avg_yield)\n",
        "# YOUR CODE ENDS HERE"
      ],
      "execution_count": 0,
      "outputs": [
        {
          "output_type": "stream",
          "text": [
            "40.17653409090909\n"
          ],
          "name": "stdout"
        }
      ]
    },
    {
      "cell_type": "code",
      "metadata": {
        "deletable": false,
        "editable": false,
        "nbgrader": {
          "checksum": "868a6cd57c6ab56018076c182e3c71b9",
          "grade": true,
          "grade_id": "yield_correct",
          "locked": true,
          "points": 1,
          "schema_version": 1,
          "solution": false
        },
        "id": "824AvpIE04cm",
        "colab_type": "code",
        "colab": {}
      },
      "source": [
        ""
      ],
      "execution_count": 0,
      "outputs": []
    },
    {
      "cell_type": "markdown",
      "metadata": {
        "id": "AhMIBU2z04co",
        "colab_type": "text"
      },
      "source": [
        "The file contains some missing data. Calculate the number of records that are not complete. Assign that number to the variable *num_missing*."
      ]
    },
    {
      "cell_type": "code",
      "metadata": {
        "deletable": false,
        "nbgrader": {
          "checksum": "5f23a91b1c1315d51e75e17ababf9f85",
          "grade": false,
          "grade_id": "missing",
          "locked": false,
          "schema_version": 1,
          "solution": true
        },
        "id": "y9pajlWn04cp",
        "colab_type": "code",
        "outputId": "10c1f831-8832-4820-8941-7ea927e37378",
        "colab": {
          "base_uri": "https://localhost:8080/",
          "height": 34
        }
      },
      "source": [
        "# YOUR CODE HERE\n",
        "num_missing = df.isnull().any(axis=1).sum()\n",
        "print(num_missing)\n",
        "# YOUR CODE ENDS HERE"
      ],
      "execution_count": 0,
      "outputs": [
        {
          "output_type": "stream",
          "text": [
            "24\n"
          ],
          "name": "stdout"
        }
      ]
    },
    {
      "cell_type": "code",
      "metadata": {
        "deletable": false,
        "editable": false,
        "nbgrader": {
          "checksum": "50ffe4a12d34c05c10d746b7d0ec2a8a",
          "grade": true,
          "grade_id": "missing-correct",
          "locked": true,
          "points": 1,
          "schema_version": 1,
          "solution": false
        },
        "id": "TCQMkhQ-04cr",
        "colab_type": "code",
        "colab": {}
      },
      "source": [
        ""
      ],
      "execution_count": 0,
      "outputs": []
    },
    {
      "cell_type": "markdown",
      "metadata": {
        "id": "tdHPabth04cw",
        "colab_type": "text"
      },
      "source": [
        "The column **ManufacturingProcess03** contains some missing values. Replace the missing value with the number 1.0 and calculate the mean of this column. Assign the result to the variable *avg_mp3*."
      ]
    },
    {
      "cell_type": "code",
      "metadata": {
        "deletable": false,
        "nbgrader": {
          "checksum": "55125e82d9ced2d2a6703de63fe491da",
          "grade": false,
          "grade_id": "replace",
          "locked": false,
          "schema_version": 1,
          "solution": true
        },
        "id": "8AZwMHnb04cw",
        "colab_type": "code",
        "outputId": "83f40fca-1856-4bd4-c0c2-e8a3e3b2a515",
        "colab": {
          "base_uri": "https://localhost:8080/",
          "height": 34
        }
      },
      "source": [
        "# YOUR CODE HERE\n",
        "df.loc[df['ManufacturingProcess03'].isnull(), 'ManufacturingProcess03'] = 1\n",
        "avg_mp3 = np.mean(df['ManufacturingProcess03'])\n",
        "print(avg_mp3)\n",
        "# YOUR CODE ENDS HERE"
      ],
      "execution_count": 0,
      "outputs": [
        {
          "output_type": "stream",
          "text": [
            "1.4935795454545475\n"
          ],
          "name": "stdout"
        }
      ]
    },
    {
      "cell_type": "code",
      "metadata": {
        "deletable": false,
        "editable": false,
        "nbgrader": {
          "checksum": "f1e9fa5244b1b682fc44b4a46942dda4",
          "grade": true,
          "grade_id": "replace-correct",
          "locked": true,
          "points": 1,
          "schema_version": 1,
          "solution": false
        },
        "id": "aBlaQGVF04cy",
        "colab_type": "code",
        "colab": {}
      },
      "source": [
        ""
      ],
      "execution_count": 0,
      "outputs": []
    },
    {
      "cell_type": "markdown",
      "metadata": {
        "id": "o238Y0Be04c0",
        "colab_type": "text"
      },
      "source": [
        "### Population of Amsterdam in 2018\n",
        "The URL listed below contains tables on the demographics of Amsterdam. Use pandas commands to assign the **population estimate of 2018-01-01** in **Amsterdam** to the variable *population*.\n"
      ]
    },
    {
      "cell_type": "code",
      "metadata": {
        "deletable": false,
        "nbgrader": {
          "checksum": "68e35827b0d2f92fc97e297b726ba3cb",
          "grade": false,
          "grade_id": "html-q1",
          "locked": false,
          "schema_version": 1,
          "solution": true
        },
        "id": "jX5L_Dzq04c0",
        "colab_type": "code",
        "outputId": "288f4c7d-29c5-4488-9f03-ef52868a5acd",
        "colab": {
          "base_uri": "https://localhost:8080/",
          "height": 34
        }
      },
      "source": [
        "url = 'https://www.citypopulation.de/php/netherlands-admin.php?adm2id=0363'\n",
        "\n",
        "# YOUR CODE HERE\n",
        "population_df = pd.read_html(url)[0] \n",
        "# Index 0 of the list as the table on the first position has the population data\n",
        "# for Amsterdam\n",
        "\n",
        "population = population_df[population_df['Name'] == 'Amsterdam'] \\\n",
        "                          ['PopulationEstimate2019-01-01'][0]\n",
        "# Population estimate of 2019 used as that of 2018 does not exist in the\n",
        "# provided database. Also, index 0 is required in this case because the imported\n",
        "# database is not cleaned up\n",
        "\n",
        "print(population)\n",
        "# YOUR CODE ENDS HERE\n"
      ],
      "execution_count": 0,
      "outputs": [
        {
          "output_type": "stream",
          "text": [
            "862965\n"
          ],
          "name": "stdout"
        }
      ]
    },
    {
      "cell_type": "code",
      "metadata": {
        "deletable": false,
        "editable": false,
        "nbgrader": {
          "checksum": "77d8c6c8a3882ace4d77806e8185591e",
          "grade": true,
          "grade_id": "html-q1-correct",
          "locked": true,
          "points": 1,
          "schema_version": 1,
          "solution": false
        },
        "id": "Z_VKQ4Zx04c3",
        "colab_type": "code",
        "colab": {}
      },
      "source": [
        ""
      ],
      "execution_count": 0,
      "outputs": []
    },
    {
      "cell_type": "markdown",
      "metadata": {
        "id": "tomFgF1x04c4",
        "colab_type": "text"
      },
      "source": [
        "Which fraction of the total population is that? Assign that value to the variable *fraction*."
      ]
    },
    {
      "cell_type": "code",
      "metadata": {
        "deletable": false,
        "nbgrader": {
          "checksum": "e013837f3584cbabb21c87ff94144387",
          "grade": false,
          "grade_id": "html-q2",
          "locked": false,
          "schema_version": 1,
          "solution": true
        },
        "id": "rZ3EDiQh04c5",
        "colab_type": "code",
        "outputId": "e536391d-0538-4cc7-d80b-1e89a1ce6360",
        "colab": {
          "base_uri": "https://localhost:8080/",
          "height": 34
        }
      },
      "source": [
        "# YOUR CODE HERE\n",
        "national_population = population_df[population_df['Name'] == \\\n",
        "                                    'Nederland [Netherlands]'] \\\n",
        "                                    ['PopulationEstimate2019-01-01'][1]\n",
        "fraction = population / national_population\n",
        "print(fraction)\n",
        "# YOUR CODE ENDS HERE"
      ],
      "execution_count": 0,
      "outputs": [
        {
          "output_type": "stream",
          "text": [
            "0.0499338537658741\n"
          ],
          "name": "stdout"
        }
      ]
    },
    {
      "cell_type": "code",
      "metadata": {
        "deletable": false,
        "editable": false,
        "nbgrader": {
          "checksum": "272f911e6bd1daadd0ed5fbc7ce98686",
          "grade": true,
          "grade_id": "html-q2-correct",
          "locked": true,
          "points": 1,
          "schema_version": 1,
          "solution": false
        },
        "id": "xMoMMsXI04c7",
        "colab_type": "code",
        "colab": {}
      },
      "source": [
        ""
      ],
      "execution_count": 0,
      "outputs": []
    },
    {
      "cell_type": "markdown",
      "metadata": {
        "id": "VKze9ccu04c8",
        "colab_type": "text"
      },
      "source": [
        "### Food database\n",
        "The file listed below contains a database on food products. Read the file and count the number of unique categories in the group variable. Assign that number to the variable *num_categories*."
      ]
    },
    {
      "cell_type": "code",
      "metadata": {
        "deletable": false,
        "nbgrader": {
          "checksum": "f5d14a060f8bc78d31374161173d37db",
          "grade": false,
          "grade_id": "unique-categories",
          "locked": false,
          "schema_version": 1,
          "solution": true
        },
        "id": "GFvznSVU04c9",
        "colab_type": "code",
        "outputId": "89e85ba8-e319-44fe-ade6-a4694b0609fd",
        "colab": {
          "base_uri": "https://localhost:8080/",
          "height": 34
        }
      },
      "source": [
        "import json\n",
        "file = 'https://raw.githubusercontent.com/harditsingh/DataWranglingVU/master/Assignment01/database.json'\n",
        "\n",
        "\n",
        "# YOUR CODE HERE\n",
        "food_df = pd.read_json(file)\n",
        "num_categories = food_df['group'].nunique()\n",
        "print(num_categories)\n",
        "# YOUR CODE ENDS HERE"
      ],
      "execution_count": 0,
      "outputs": [
        {
          "output_type": "stream",
          "text": [
            "25\n"
          ],
          "name": "stdout"
        }
      ]
    },
    {
      "cell_type": "code",
      "metadata": {
        "deletable": false,
        "editable": false,
        "nbgrader": {
          "checksum": "9c4f049f1c9d885fb9196a954e8593af",
          "grade": true,
          "grade_id": "unique-categories-correct",
          "locked": true,
          "points": 1,
          "schema_version": 1,
          "solution": false
        },
        "id": "FbseTb4Q04c_",
        "colab_type": "code",
        "colab": {}
      },
      "source": [
        ""
      ],
      "execution_count": 0,
      "outputs": []
    },
    {
      "cell_type": "markdown",
      "metadata": {
        "id": "ImKUM2C104dA",
        "colab_type": "text"
      },
      "source": [
        "Count the number of products that are mentioned in the **Baby Foods** group. Assign that number to the variable *baby_total*."
      ]
    },
    {
      "cell_type": "code",
      "metadata": {
        "deletable": false,
        "nbgrader": {
          "checksum": "76c857969dbb92f936ddc2bfda4b0c1b",
          "grade": false,
          "grade_id": "food-database",
          "locked": false,
          "schema_version": 1,
          "solution": true
        },
        "id": "rsvfqrxf04dB",
        "colab_type": "code",
        "outputId": "6b4e3bc3-33dd-45af-ec16-88e5db920ccf",
        "colab": {
          "base_uri": "https://localhost:8080/",
          "height": 34
        }
      },
      "source": [
        "# YOUR CODE HERE\n",
        "baby_total = food_df[food_df['group'] == 'Baby Foods']['id'].count()\n",
        "print(baby_total)\n",
        "# YOUR CODE ENDS HERE"
      ],
      "execution_count": 0,
      "outputs": [
        {
          "output_type": "stream",
          "text": [
            "209\n"
          ],
          "name": "stdout"
        }
      ]
    },
    {
      "cell_type": "code",
      "metadata": {
        "deletable": false,
        "editable": false,
        "nbgrader": {
          "checksum": "2dbd097d510c5b2645f4d501cac9ca62",
          "grade": true,
          "grade_id": "food-database-correct",
          "locked": true,
          "points": 2,
          "schema_version": 1,
          "solution": false
        },
        "id": "5YSUppzU04dD",
        "colab_type": "code",
        "colab": {}
      },
      "source": [
        ""
      ],
      "execution_count": 0,
      "outputs": []
    },
    {
      "cell_type": "markdown",
      "metadata": {
        "id": "XiPcR7jz04dF",
        "colab_type": "text"
      },
      "source": [
        "### Bus database\n",
        "The following XML file contains records on the LI Bus service. Read in the XML and count the number of records present in the file. Assign that number to the variable *num_records*."
      ]
    },
    {
      "cell_type": "code",
      "metadata": {
        "deletable": false,
        "nbgrader": {
          "checksum": "7b52d244632f99770da0183c1a8c2c9c",
          "grade": false,
          "grade_id": "bus",
          "locked": false,
          "schema_version": 1,
          "solution": true
        },
        "id": "kZAe3yGA04dG",
        "colab_type": "code",
        "outputId": "38a8b7b3-5111-46f1-f0af-ddf92867a89c",
        "colab": {
          "base_uri": "https://localhost:8080/",
          "height": 34
        }
      },
      "source": [
        "from lxml import html\n",
        "import requests\n",
        "\n",
        "file = 'https://raw.githubusercontent.com/harditsingh/DataWranglingVU/master/Assignment01/libus.xml'\n",
        "\n",
        "# YOUR CODE HERE\n",
        "response = requests.get(file)\n",
        "tree = html.fromstring(response.content)\n",
        "num_records = len(tree.xpath('//indicator'))\n",
        "print(num_records)\n",
        "# YOUR CODE ENDS HERE"
      ],
      "execution_count": 0,
      "outputs": [
        {
          "output_type": "stream",
          "text": [
            "480\n"
          ],
          "name": "stdout"
        }
      ]
    },
    {
      "cell_type": "code",
      "metadata": {
        "deletable": false,
        "editable": false,
        "nbgrader": {
          "checksum": "4a7febd8a49451cda830e17a0ac66dcc",
          "grade": true,
          "grade_id": "bus-correct",
          "locked": true,
          "points": 2,
          "schema_version": 1,
          "solution": false
        },
        "id": "g4JDuLtD04dH",
        "colab_type": "code",
        "colab": {}
      },
      "source": [
        ""
      ],
      "execution_count": 0,
      "outputs": []
    }
  ]
}