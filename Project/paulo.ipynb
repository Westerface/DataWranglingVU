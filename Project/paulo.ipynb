{
  "nbformat": 4,
  "nbformat_minor": 0,
  "metadata": {
    "colab": {
      "name": "Wrangling_Paulo",
      "provenance": [],
      "collapsed_sections": []
    },
    "kernelspec": {
      "name": "python3",
      "display_name": "Python 3"
    }
  },
  "cells": [
    {
      "cell_type": "code",
      "metadata": {
        "id": "pJhsPb5U2AO9",
        "colab_type": "code",
        "colab": {}
      },
      "source": [
        "import pandas as pd\n",
        "import numpy as np\n",
        "from datetime import datetime \n",
        "\n",
        "import matplotlib.pyplot as plt\n",
        "import seaborn as sns\n",
        "from math import sin, cos, sqrt, atan2, radians\n",
        "DIMS=(16,6)"
      ],
      "execution_count": 0,
      "outputs": []
    },
    {
      "cell_type": "code",
      "metadata": {
        "id": "INF25_G_2RdC",
        "colab_type": "code",
        "colab": {}
      },
      "source": [
        "maindf = pd.read_csv('https://raw.githubusercontent.com/harditsingh/DataWranglingVU/master/Project/EPL%202000-2018.csv')"
      ],
      "execution_count": 0,
      "outputs": []
    },
    {
      "cell_type": "markdown",
      "metadata": {
        "id": "oNcJ939uvy4a",
        "colab_type": "text"
      },
      "source": [
        "### **Data Preparation**"
      ]
    },
    {
      "cell_type": "code",
      "metadata": {
        "id": "qiJ7A3aL2nLp",
        "colab_type": "code",
        "colab": {}
      },
      "source": [
        "def parse_date(text):\n",
        "  if type(text) is not str:\n",
        "    return\n",
        "  for fmt in ('%d/%m/%y', '%d/%m/%Y'):\n",
        "      try:\n",
        "          return datetime.strptime(text, fmt)\n",
        "      except ValueError:\n",
        "          pass\n",
        "  raise ValueError('no valid date format found')\n",
        "\n",
        "\n",
        "maindf['Date'] = maindf['Date'].apply(parse_date)\n",
        "\n",
        "maindf.drop(['HTHG', 'HTAG', 'HTR', 'HS', 'AS', 'HST', 'AST', 'HC', 'AC'], inplace=True, axis=1)"
      ],
      "execution_count": 0,
      "outputs": []
    },
    {
      "cell_type": "code",
      "metadata": {
        "id": "0lYbaCov6rU9",
        "colab_type": "code",
        "colab": {}
      },
      "source": [
        "# Cleaning up referee names (wrong spelling)\n",
        "cleaned_df = maindf.replace([\"�A D'Urso\", \"Andy D'Urso\", \"Andy D'Urso \"], \"A D'Urso\")\n",
        "cleaned_df = cleaned_df.replace(\"�U Rennie\", \"U Rennie\")\n",
        "cleaned_df = cleaned_df.replace(\"�C Foy\", \"C Foy\")\n",
        "cleaned_df = cleaned_df.replace([\"�A Wiley\",\"Alan Wiley\"], \"A Wiley\")\n",
        "cleaned_df = cleaned_df.replace([\"�D Gallagher\", \"Dermot Gallagher\", \"D Gallagh\", \"D Gallaghe\"], \"D Gallagher\")\n",
        "cleaned_df = cleaned_df.replace(\"�H Webb\", \"H Webb\")\n",
        "cleaned_df = cleaned_df.replace([\"�M Atkinson\",\"Mn Atkinson\"], \"M Atkinson\")\n",
        "cleaned_df = cleaned_df.replace([\"�N Barry\", \"Neale Barry\"], \"N Barry\")\n",
        "cleaned_df = cleaned_df.replace([\"�S Dunn\", \"Steve Dunn\"], \"S Dunn\")\n",
        "cleaned_df = cleaned_df.replace(\"Graham Barber\", \"G Barber\")\n",
        "cleaned_df = cleaned_df.replace(\"Barry Knight\", \"B Knight\")\n",
        "cleaned_df = cleaned_df.replace(\"Mike Riley\", \"M Riley\")\n",
        "cleaned_df = cleaned_df.replace(\"Paul Durkin\", \"P Durkin\")\n",
        "cleaned_df = cleaned_df.replace(\"Graham Poll\", \"G Poll\")\n",
        "cleaned_df = cleaned_df.replace([\"Mark Halsey\", \"Mark Halsey \"], \"M Halsey\")\n",
        "cleaned_df = cleaned_df.replace(\"Jeff Winter\", \"J Winter\")\n",
        "cleaned_df = cleaned_df.replace(\"Rob Styles\", \"R Styles\")\n",
        "cleaned_df = cleaned_df.replace([\"Steve Bennett\", \"Steve Bennett \", \"St Bennett\"], \"S Bennett\")\n",
        "cleaned_df = cleaned_df.replace(\"Mike Dean\", \"M Dean\")\n",
        "cleaned_df = cleaned_df.replace(\"Matt Messias\", \"M Messias\")\n",
        "cleaned_df = cleaned_df.replace(\"Clive Wilkes\", \"C Wilkes\")\n",
        "cleaned_df = cleaned_df.replace(\"l Mason\", \"L Mason\")"
      ],
      "execution_count": 0,
      "outputs": []
    },
    {
      "cell_type": "code",
      "metadata": {
        "id": "RS4VPsef_Qa1",
        "colab_type": "code",
        "outputId": "77646e83-8201-4ea5-adc2-dcfb9b4bee75",
        "colab": {
          "base_uri": "https://localhost:8080/",
          "height": 238
        }
      },
      "source": [
        "cleaned_df.Referee.unique()"
      ],
      "execution_count": 0,
      "outputs": [
        {
          "output_type": "execute_result",
          "data": {
            "text/plain": [
              "array(['Rob Harris', 'G Barber', 'B Knight', \"A D'Urso\", 'D Gallagher',\n",
              "       'M Riley', 'P Durkin', 'S Dunn', 'A Wiley', 'Steve Lodge',\n",
              "       'G Poll', 'M Halsey', 'J Winter', 'Peter Jones', 'Andy Hall',\n",
              "       'David Ellaray', 'F Taylor', 'R Styles', 'S Bennett', 'Ian Harris',\n",
              "       'Paul Taylor', 'N Barry', 'M Dean', 'Roy Burton', 'M Messias',\n",
              "       'C Wilkes', 'D Elleray', 'U Rennie', 'D Pugh', 'E Wolstenholme',\n",
              "       'C Foy', 'P Dowd', 'R Martin', 'H Webb', 'P Walton',\n",
              "       'M Clattenburg', 'M Atkinson', 'P Crossley', 'A Marriner',\n",
              "       'R Beeby', 'I Williamson', 'L Mason', 'K Stroud', 'S Tanner',\n",
              "       'L Probert', 'S Attwell', 'M Jones', 'K Friend', 'A Taylor',\n",
              "       'M Oliver', 'N Swarbrick', 'J Moss', 'R East', 'C Pawson',\n",
              "       'R Madley', 'P Tierney', 'G Scott', nan, 'S Hooper', 'C Kavanagh',\n",
              "       'D Coote'], dtype=object)"
            ]
          },
          "metadata": {
            "tags": []
          },
          "execution_count": 398
        }
      ]
    },
    {
      "cell_type": "code",
      "metadata": {
        "id": "W5p0_cnUBZHR",
        "colab_type": "code",
        "outputId": "6ff289d7-a69c-4230-ab21-6513b1c5aaca",
        "colab": {
          "base_uri": "https://localhost:8080/",
          "height": 128
        }
      },
      "source": [
        "# Checking if unique teams is correct\n",
        "print(\"There are\", cleaned_df.HomeTeam.nunique(), \"unique teams\")\n",
        "cleaned_df.head(2)\n"
      ],
      "execution_count": 0,
      "outputs": [
        {
          "output_type": "stream",
          "text": [
            "There are 44 unique teams\n"
          ],
          "name": "stdout"
        },
        {
          "output_type": "execute_result",
          "data": {
            "text/html": [
              "<div>\n",
              "<style scoped>\n",
              "    .dataframe tbody tr th:only-of-type {\n",
              "        vertical-align: middle;\n",
              "    }\n",
              "\n",
              "    .dataframe tbody tr th {\n",
              "        vertical-align: top;\n",
              "    }\n",
              "\n",
              "    .dataframe thead th {\n",
              "        text-align: right;\n",
              "    }\n",
              "</style>\n",
              "<table border=\"1\" class=\"dataframe\">\n",
              "  <thead>\n",
              "    <tr style=\"text-align: right;\">\n",
              "      <th></th>\n",
              "      <th>Date</th>\n",
              "      <th>HomeTeam</th>\n",
              "      <th>AwayTeam</th>\n",
              "      <th>FTHG</th>\n",
              "      <th>FTAG</th>\n",
              "      <th>FTR</th>\n",
              "      <th>Referee</th>\n",
              "      <th>HF</th>\n",
              "      <th>AF</th>\n",
              "      <th>HY</th>\n",
              "      <th>AY</th>\n",
              "      <th>HR</th>\n",
              "      <th>AR</th>\n",
              "      <th>Season</th>\n",
              "    </tr>\n",
              "  </thead>\n",
              "  <tbody>\n",
              "    <tr>\n",
              "      <th>0</th>\n",
              "      <td>2000-08-19</td>\n",
              "      <td>Charlton</td>\n",
              "      <td>Man City</td>\n",
              "      <td>4.0</td>\n",
              "      <td>0.0</td>\n",
              "      <td>H</td>\n",
              "      <td>Rob Harris</td>\n",
              "      <td>13.0</td>\n",
              "      <td>12.0</td>\n",
              "      <td>1.0</td>\n",
              "      <td>2.0</td>\n",
              "      <td>0.0</td>\n",
              "      <td>0.0</td>\n",
              "      <td>00-01</td>\n",
              "    </tr>\n",
              "    <tr>\n",
              "      <th>1</th>\n",
              "      <td>2000-08-19</td>\n",
              "      <td>Chelsea</td>\n",
              "      <td>West Ham</td>\n",
              "      <td>4.0</td>\n",
              "      <td>2.0</td>\n",
              "      <td>H</td>\n",
              "      <td>G Barber</td>\n",
              "      <td>19.0</td>\n",
              "      <td>14.0</td>\n",
              "      <td>1.0</td>\n",
              "      <td>2.0</td>\n",
              "      <td>0.0</td>\n",
              "      <td>0.0</td>\n",
              "      <td>00-01</td>\n",
              "    </tr>\n",
              "  </tbody>\n",
              "</table>\n",
              "</div>"
            ],
            "text/plain": [
              "        Date  HomeTeam  AwayTeam  FTHG  FTAG  ...   HY   AY   HR   AR  Season\n",
              "0 2000-08-19  Charlton  Man City   4.0   0.0  ...  1.0  2.0  0.0  0.0   00-01\n",
              "1 2000-08-19   Chelsea  West Ham   4.0   2.0  ...  1.0  2.0  0.0  0.0   00-01\n",
              "\n",
              "[2 rows x 14 columns]"
            ]
          },
          "metadata": {
            "tags": []
          },
          "execution_count": 399
        }
      ]
    },
    {
      "cell_type": "code",
      "metadata": {
        "id": "NTF0VpJEqdq4",
        "colab_type": "code",
        "colab": {}
      },
      "source": [
        "# Delete season 00-01\n",
        "season_00_01 = cleaned_df[ cleaned_df['Season'] == '00-01'].index\n",
        " \n",
        "# Delete these rows indexes from dataFrame\n",
        "cleaned_df.drop(season_00_01 , inplace=True)"
      ],
      "execution_count": 0,
      "outputs": []
    },
    {
      "cell_type": "code",
      "metadata": {
        "id": "iRwi1Hvrqt1n",
        "colab_type": "code",
        "colab": {}
      },
      "source": [
        "# Goal difference column\n",
        "cleaned_df['GoalsDifference'] = cleaned_df['FTHG'] - cleaned_df['FTAG']"
      ],
      "execution_count": 0,
      "outputs": []
    },
    {
      "cell_type": "code",
      "metadata": {
        "id": "cMNCiC_8984f",
        "colab_type": "code",
        "colab": {}
      },
      "source": [
        "# Show missing row\n",
        "null_data = cleaned_df[cleaned_df.isnull().any(axis=1)]\n",
        "null_data\n",
        "# Delete row with index label '5320' \n",
        "cleaned_df = cleaned_df.drop(5320)"
      ],
      "execution_count": 0,
      "outputs": []
    },
    {
      "cell_type": "code",
      "metadata": {
        "id": "WANSWqEg3HJA",
        "colab_type": "code",
        "outputId": "8bde1028-4c78-44ed-becf-549091853cc3",
        "colab": {
          "base_uri": "https://localhost:8080/",
          "height": 34
        }
      },
      "source": [
        "# Checking for missing values\n",
        "cleaned_df.isnull().sum()\n",
        "cleaned_df.isnull().values.any()"
      ],
      "execution_count": 0,
      "outputs": [
        {
          "output_type": "execute_result",
          "data": {
            "text/plain": [
              "False"
            ]
          },
          "metadata": {
            "tags": []
          },
          "execution_count": 403
        }
      ]
    },
    {
      "cell_type": "code",
      "metadata": {
        "id": "XP1cwFkIxmxs",
        "colab_type": "code",
        "colab": {}
      },
      "source": [
        "cleaned_df[['FTHG', 'FTAG', 'HF', 'AF', 'HY', 'AY', 'HR', 'AR', 'GoalsDifference']] = cleaned_df[['FTHG', 'FTAG', 'HF', 'AF', 'HY', 'AY', 'HR', 'AR', 'GoalsDifference']].astype(int)"
      ],
      "execution_count": 0,
      "outputs": []
    },
    {
      "cell_type": "code",
      "metadata": {
        "id": "yFxENNmMdNyu",
        "colab_type": "code",
        "outputId": "cf18ee2d-b004-44b1-a99d-9fe375e999a1",
        "colab": {
          "base_uri": "https://localhost:8080/",
          "height": 306
        }
      },
      "source": [
        "# Checking if seasons are correct\n",
        "cleaned_df.Season.value_counts()"
      ],
      "execution_count": 0,
      "outputs": [
        {
          "output_type": "execute_result",
          "data": {
            "text/plain": [
              "04-05    380\n",
              "12-13    380\n",
              "02-03    380\n",
              "15-16    380\n",
              "14-15    380\n",
              "10-11    380\n",
              "13-14    380\n",
              "17-18    380\n",
              "11-12    380\n",
              "16-17    380\n",
              "05-06    380\n",
              "08-09    380\n",
              "06-07    380\n",
              "03-04    380\n",
              "07-08    380\n",
              "09-10    380\n",
              "Name: Season, dtype: int64"
            ]
          },
          "metadata": {
            "tags": []
          },
          "execution_count": 405
        }
      ]
    },
    {
      "cell_type": "markdown",
      "metadata": {
        "id": "V8Ei46PV-It3",
        "colab_type": "text"
      },
      "source": [
        "### **Data Exploration**"
      ]
    },
    {
      "cell_type": "code",
      "metadata": {
        "id": "hKpTqX07-Q8w",
        "colab_type": "code",
        "outputId": "36864954-c4ba-440b-bb29-99c933a09420",
        "colab": {
          "base_uri": "https://localhost:8080/",
          "height": 297
        }
      },
      "source": [
        "cleaned_df.describe()"
      ],
      "execution_count": 0,
      "outputs": [
        {
          "output_type": "execute_result",
          "data": {
            "text/html": [
              "<div>\n",
              "<style scoped>\n",
              "    .dataframe tbody tr th:only-of-type {\n",
              "        vertical-align: middle;\n",
              "    }\n",
              "\n",
              "    .dataframe tbody tr th {\n",
              "        vertical-align: top;\n",
              "    }\n",
              "\n",
              "    .dataframe thead th {\n",
              "        text-align: right;\n",
              "    }\n",
              "</style>\n",
              "<table border=\"1\" class=\"dataframe\">\n",
              "  <thead>\n",
              "    <tr style=\"text-align: right;\">\n",
              "      <th></th>\n",
              "      <th>FTHG</th>\n",
              "      <th>FTAG</th>\n",
              "      <th>HF</th>\n",
              "      <th>AF</th>\n",
              "      <th>HY</th>\n",
              "      <th>AY</th>\n",
              "      <th>HR</th>\n",
              "      <th>AR</th>\n",
              "      <th>GoalsDifference</th>\n",
              "    </tr>\n",
              "  </thead>\n",
              "  <tbody>\n",
              "    <tr>\n",
              "      <th>count</th>\n",
              "      <td>6080.000000</td>\n",
              "      <td>6080.000000</td>\n",
              "      <td>6080.000000</td>\n",
              "      <td>6080.000000</td>\n",
              "      <td>6080.000000</td>\n",
              "      <td>6080.000000</td>\n",
              "      <td>6080.000000</td>\n",
              "      <td>6080.000000</td>\n",
              "      <td>6080.000000</td>\n",
              "    </tr>\n",
              "    <tr>\n",
              "      <th>mean</th>\n",
              "      <td>1.530263</td>\n",
              "      <td>1.131908</td>\n",
              "      <td>11.389803</td>\n",
              "      <td>11.943750</td>\n",
              "      <td>1.397204</td>\n",
              "      <td>1.759868</td>\n",
              "      <td>0.062993</td>\n",
              "      <td>0.094079</td>\n",
              "      <td>0.398355</td>\n",
              "    </tr>\n",
              "    <tr>\n",
              "      <th>std</th>\n",
              "      <td>1.299046</td>\n",
              "      <td>1.127955</td>\n",
              "      <td>3.722532</td>\n",
              "      <td>3.857444</td>\n",
              "      <td>1.178979</td>\n",
              "      <td>1.278558</td>\n",
              "      <td>0.255511</td>\n",
              "      <td>0.303564</td>\n",
              "      <td>1.766664</td>\n",
              "    </tr>\n",
              "    <tr>\n",
              "      <th>min</th>\n",
              "      <td>0.000000</td>\n",
              "      <td>0.000000</td>\n",
              "      <td>1.000000</td>\n",
              "      <td>1.000000</td>\n",
              "      <td>0.000000</td>\n",
              "      <td>0.000000</td>\n",
              "      <td>0.000000</td>\n",
              "      <td>0.000000</td>\n",
              "      <td>-6.000000</td>\n",
              "    </tr>\n",
              "    <tr>\n",
              "      <th>25%</th>\n",
              "      <td>1.000000</td>\n",
              "      <td>0.000000</td>\n",
              "      <td>9.000000</td>\n",
              "      <td>9.000000</td>\n",
              "      <td>0.000000</td>\n",
              "      <td>1.000000</td>\n",
              "      <td>0.000000</td>\n",
              "      <td>0.000000</td>\n",
              "      <td>-1.000000</td>\n",
              "    </tr>\n",
              "    <tr>\n",
              "      <th>50%</th>\n",
              "      <td>1.000000</td>\n",
              "      <td>1.000000</td>\n",
              "      <td>11.000000</td>\n",
              "      <td>12.000000</td>\n",
              "      <td>1.000000</td>\n",
              "      <td>2.000000</td>\n",
              "      <td>0.000000</td>\n",
              "      <td>0.000000</td>\n",
              "      <td>0.000000</td>\n",
              "    </tr>\n",
              "    <tr>\n",
              "      <th>75%</th>\n",
              "      <td>2.000000</td>\n",
              "      <td>2.000000</td>\n",
              "      <td>14.000000</td>\n",
              "      <td>14.000000</td>\n",
              "      <td>2.000000</td>\n",
              "      <td>3.000000</td>\n",
              "      <td>0.000000</td>\n",
              "      <td>0.000000</td>\n",
              "      <td>1.000000</td>\n",
              "    </tr>\n",
              "    <tr>\n",
              "      <th>max</th>\n",
              "      <td>9.000000</td>\n",
              "      <td>7.000000</td>\n",
              "      <td>33.000000</td>\n",
              "      <td>28.000000</td>\n",
              "      <td>7.000000</td>\n",
              "      <td>9.000000</td>\n",
              "      <td>3.000000</td>\n",
              "      <td>2.000000</td>\n",
              "      <td>8.000000</td>\n",
              "    </tr>\n",
              "  </tbody>\n",
              "</table>\n",
              "</div>"
            ],
            "text/plain": [
              "              FTHG         FTAG  ...           AR  GoalsDifference\n",
              "count  6080.000000  6080.000000  ...  6080.000000      6080.000000\n",
              "mean      1.530263     1.131908  ...     0.094079         0.398355\n",
              "std       1.299046     1.127955  ...     0.303564         1.766664\n",
              "min       0.000000     0.000000  ...     0.000000        -6.000000\n",
              "25%       1.000000     0.000000  ...     0.000000        -1.000000\n",
              "50%       1.000000     1.000000  ...     0.000000         0.000000\n",
              "75%       2.000000     2.000000  ...     0.000000         1.000000\n",
              "max       9.000000     7.000000  ...     2.000000         8.000000\n",
              "\n",
              "[8 rows x 9 columns]"
            ]
          },
          "metadata": {
            "tags": []
          },
          "execution_count": 406
        }
      ]
    },
    {
      "cell_type": "code",
      "metadata": {
        "id": "6rCfVoX0eg3K",
        "colab_type": "code",
        "outputId": "7db25b98-0277-4463-dcd1-3fc643400dfb",
        "colab": {
          "base_uri": "https://localhost:8080/",
          "height": 204
        }
      },
      "source": [
        "cleaned_df.head(5)"
      ],
      "execution_count": 0,
      "outputs": [
        {
          "output_type": "execute_result",
          "data": {
            "text/html": [
              "<div>\n",
              "<style scoped>\n",
              "    .dataframe tbody tr th:only-of-type {\n",
              "        vertical-align: middle;\n",
              "    }\n",
              "\n",
              "    .dataframe tbody tr th {\n",
              "        vertical-align: top;\n",
              "    }\n",
              "\n",
              "    .dataframe thead th {\n",
              "        text-align: right;\n",
              "    }\n",
              "</style>\n",
              "<table border=\"1\" class=\"dataframe\">\n",
              "  <thead>\n",
              "    <tr style=\"text-align: right;\">\n",
              "      <th></th>\n",
              "      <th>Date</th>\n",
              "      <th>HomeTeam</th>\n",
              "      <th>AwayTeam</th>\n",
              "      <th>FTHG</th>\n",
              "      <th>FTAG</th>\n",
              "      <th>FTR</th>\n",
              "      <th>Referee</th>\n",
              "      <th>HF</th>\n",
              "      <th>AF</th>\n",
              "      <th>HY</th>\n",
              "      <th>AY</th>\n",
              "      <th>HR</th>\n",
              "      <th>AR</th>\n",
              "      <th>Season</th>\n",
              "      <th>GoalsDifference</th>\n",
              "    </tr>\n",
              "  </thead>\n",
              "  <tbody>\n",
              "    <tr>\n",
              "      <th>380</th>\n",
              "      <td>2002-08-17</td>\n",
              "      <td>Blackburn</td>\n",
              "      <td>Sunderland</td>\n",
              "      <td>0</td>\n",
              "      <td>0</td>\n",
              "      <td>D</td>\n",
              "      <td>D Elleray</td>\n",
              "      <td>14</td>\n",
              "      <td>11</td>\n",
              "      <td>1</td>\n",
              "      <td>2</td>\n",
              "      <td>0</td>\n",
              "      <td>0</td>\n",
              "      <td>02-03</td>\n",
              "      <td>0</td>\n",
              "    </tr>\n",
              "    <tr>\n",
              "      <th>381</th>\n",
              "      <td>2002-08-17</td>\n",
              "      <td>Charlton</td>\n",
              "      <td>Chelsea</td>\n",
              "      <td>2</td>\n",
              "      <td>3</td>\n",
              "      <td>A</td>\n",
              "      <td>G Barber</td>\n",
              "      <td>10</td>\n",
              "      <td>12</td>\n",
              "      <td>0</td>\n",
              "      <td>3</td>\n",
              "      <td>1</td>\n",
              "      <td>0</td>\n",
              "      <td>02-03</td>\n",
              "      <td>-1</td>\n",
              "    </tr>\n",
              "    <tr>\n",
              "      <th>382</th>\n",
              "      <td>2002-08-17</td>\n",
              "      <td>Everton</td>\n",
              "      <td>Tottenham</td>\n",
              "      <td>2</td>\n",
              "      <td>2</td>\n",
              "      <td>D</td>\n",
              "      <td>N Barry</td>\n",
              "      <td>18</td>\n",
              "      <td>4</td>\n",
              "      <td>1</td>\n",
              "      <td>1</td>\n",
              "      <td>0</td>\n",
              "      <td>0</td>\n",
              "      <td>02-03</td>\n",
              "      <td>0</td>\n",
              "    </tr>\n",
              "    <tr>\n",
              "      <th>383</th>\n",
              "      <td>2002-08-17</td>\n",
              "      <td>Fulham</td>\n",
              "      <td>Bolton</td>\n",
              "      <td>4</td>\n",
              "      <td>1</td>\n",
              "      <td>H</td>\n",
              "      <td>A Wiley</td>\n",
              "      <td>16</td>\n",
              "      <td>12</td>\n",
              "      <td>1</td>\n",
              "      <td>2</td>\n",
              "      <td>0</td>\n",
              "      <td>0</td>\n",
              "      <td>02-03</td>\n",
              "      <td>3</td>\n",
              "    </tr>\n",
              "    <tr>\n",
              "      <th>384</th>\n",
              "      <td>2002-08-17</td>\n",
              "      <td>Leeds</td>\n",
              "      <td>Man City</td>\n",
              "      <td>3</td>\n",
              "      <td>0</td>\n",
              "      <td>H</td>\n",
              "      <td>G Poll</td>\n",
              "      <td>13</td>\n",
              "      <td>13</td>\n",
              "      <td>1</td>\n",
              "      <td>1</td>\n",
              "      <td>0</td>\n",
              "      <td>0</td>\n",
              "      <td>02-03</td>\n",
              "      <td>3</td>\n",
              "    </tr>\n",
              "  </tbody>\n",
              "</table>\n",
              "</div>"
            ],
            "text/plain": [
              "          Date   HomeTeam    AwayTeam  FTHG  ...  HR AR Season  GoalsDifference\n",
              "380 2002-08-17  Blackburn  Sunderland     0  ...   0  0  02-03                0\n",
              "381 2002-08-17   Charlton     Chelsea     2  ...   1  0  02-03               -1\n",
              "382 2002-08-17    Everton   Tottenham     2  ...   0  0  02-03                0\n",
              "383 2002-08-17     Fulham      Bolton     4  ...   0  0  02-03                3\n",
              "384 2002-08-17      Leeds    Man City     3  ...   0  0  02-03                3\n",
              "\n",
              "[5 rows x 15 columns]"
            ]
          },
          "metadata": {
            "tags": []
          },
          "execution_count": 407
        }
      ]
    },
    {
      "cell_type": "code",
      "metadata": {
        "id": "T-x6EcDceHf9",
        "colab_type": "code",
        "colab": {}
      },
      "source": [
        "grouped = cleaned_df.groupby('Season')\n",
        "\n",
        "def foul_count(season):\n",
        "    \n",
        "    result_fouls = {}\n",
        "    \n",
        "    teams = season['HomeTeam']\n",
        "    for i in teams:\n",
        "        \n",
        "        home_games = season[season['HomeTeam']==i]\n",
        "        away_games = season[season['AwayTeam']==i]\n",
        "        \n",
        "        games = len(home_games) + len(away_games)\n",
        "        \n",
        "        home_fouls = home_games['HF'].sum()\n",
        "        away_fouls = away_games['AF'].sum()\n",
        "        \n",
        "        total_fouls = home_fouls + away_fouls\n",
        "        \n",
        "        result_fouls[i] = round(total_fouls / games,2)\n",
        "        \n",
        "    return result_fouls"
      ],
      "execution_count": 0,
      "outputs": []
    },
    {
      "cell_type": "code",
      "metadata": {
        "id": "LlpR0UUMeSBn",
        "colab_type": "code",
        "outputId": "e2b05010-a549-41bd-fe2c-f19d945ca968",
        "colab": {
          "base_uri": "https://localhost:8080/",
          "height": 323
        }
      },
      "source": [
        "result_fouls = grouped.apply(foul_count)\n",
        "result_fouls"
      ],
      "execution_count": 0,
      "outputs": [
        {
          "output_type": "execute_result",
          "data": {
            "text/plain": [
              "Season\n",
              "02-03    {'Blackburn': 13.92, 'Charlton': 12.97, 'Evert...\n",
              "03-04    {'Arsenal': 13.13, 'Birmingham': 13.29, 'Black...\n",
              "04-05    {'Aston Villa': 15.26, 'Blackburn': 15.61, 'Bo...\n",
              "05-06    {'Aston Villa': 14.13, 'Everton': 14.08, 'Fulh...\n",
              "06-07    {'Arsenal': 9.68, 'Bolton': 13.71, 'Everton': ...\n",
              "07-08    {'Aston Villa': 13.37, 'Bolton': 13.11, 'Derby...\n",
              "08-09    {'Arsenal': 11.03, 'Bolton': 13.08, 'Everton':...\n",
              "09-10    {'Aston Villa': 12.11, 'Blackburn': 13.84, 'Bo...\n",
              "10-11    {'Aston Villa': 11.5, 'Blackburn': 11.97, 'Bol...\n",
              "11-12    {'Blackburn': 11.18, 'Fulham': 9.21, 'Liverpoo...\n",
              "12-13    {'Arsenal': 9.47, 'Fulham': 10.11, 'Newcastle'...\n",
              "13-14    {'Arsenal': 9.16, 'Liverpool': 10.79, 'Norwich...\n",
              "14-15    {'Arsenal': 9.92, 'Leicester': 12.03, 'Man Uni...\n",
              "15-16    {'Bournemouth': 9.53, 'Chelsea': 10.74, 'Evert...\n",
              "16-17    {'Burnley': 11.21, 'Crystal Palace': 12.34, 'E...\n",
              "17-18    {'Arsenal': 10.08, 'Brighton': 10.87, 'Chelsea...\n",
              "dtype: object"
            ]
          },
          "metadata": {
            "tags": []
          },
          "execution_count": 409
        }
      ]
    },
    {
      "cell_type": "code",
      "metadata": {
        "id": "PjFGp-djfRNB",
        "colab_type": "code",
        "outputId": "5eb46580-5b60-4115-9904-62c20f0c16b2",
        "colab": {
          "base_uri": "https://localhost:8080/",
          "height": 289
        }
      },
      "source": [
        "# Rank team with highest foul for seasons\n",
        "foul_rate_list = []\n",
        "\n",
        "for i in result_fouls:\n",
        "    n = max(zip(i.values(),i.keys()))\n",
        "    foul_rate_list.append(n)\n",
        "\n",
        "foul_rate_list"
      ],
      "execution_count": 0,
      "outputs": [
        {
          "output_type": "execute_result",
          "data": {
            "text/plain": [
              "[(14.39, 'Leeds'),\n",
              " (14.84, 'Tottenham'),\n",
              " (15.61, 'Blackburn'),\n",
              " (15.79, 'Newcastle'),\n",
              " (14.79, 'Watford'),\n",
              " (13.97, 'Blackburn'),\n",
              " (14.03, 'Hull'),\n",
              " (13.84, 'Blackburn'),\n",
              " (12.63, 'Bolton'),\n",
              " (11.82, 'Everton'),\n",
              " (11.71, 'West Ham'),\n",
              " (12.76, 'Stoke'),\n",
              " (13.87, 'Crystal Palace'),\n",
              " (12.42, 'Man United'),\n",
              " (13.61, 'Watford'),\n",
              " (12.08, 'Everton')]"
            ]
          },
          "metadata": {
            "tags": []
          },
          "execution_count": 410
        }
      ]
    },
    {
      "cell_type": "markdown",
      "metadata": {
        "id": "ASnRbBLz-nY6",
        "colab_type": "text"
      },
      "source": [
        "### **Insights**"
      ]
    },
    {
      "cell_type": "markdown",
      "metadata": {
        "id": "xTezjRy4BA0Z",
        "colab_type": "text"
      },
      "source": [
        "## **Average Scoring Margin**"
      ]
    },
    {
      "cell_type": "code",
      "metadata": {
        "id": "3MXufkWd-u4m",
        "colab_type": "code",
        "outputId": "beff143b-06d0-454f-f594-4336ba53a30e",
        "colab": {
          "base_uri": "https://localhost:8080/",
          "height": 482
        }
      },
      "source": [
        "# Goal Difference equals to number of hometeam goals minus number of awayteam goals\n",
        "margin_score = cleaned_df.groupby(['HomeTeam']).agg({'GoalsDifference': ['sum','size']})\n",
        "margin_score = margin_score.reset_index()\n",
        "margin_score.columns = margin_score.columns.droplevel(level=0)\n",
        "# print(margin_score)\n",
        "\n",
        "# Scoring Margin is the average difference between the number of goals scored by the home and away team \n",
        "# A positive Scoring Margin = home team scores more than away team\n",
        "margin_score['AverageScoringMargin'] = margin_score['sum']/margin_score['size']\n",
        "result_score = margin_score.sort_values(['AverageScoringMargin'], ascending = False)\n",
        "\n",
        "# Show bar chart \n",
        "fig, ax = plt.subplots() \n",
        "team_list = []\n",
        "for x in list(result_score['AverageScoringMargin']):\n",
        "    if round(x,1) <= 0:\n",
        "        team_list.append('red')\n",
        "    else:\n",
        "        team_list.append('green')\n",
        "result_score.plot(x='', y = \"AverageScoringMargin\", kind='bar',ax=ax, figsize=DIMS, color=team_list, label = 'Average Scoring Margin')\n",
        "ax.set_title('Average Scoring Margin of Home Team (2002-2018)', fontsize = 18)\n",
        "ax.set_ylabel('Average Scoring Margin', fontsize = 14)\n",
        "ax.set_xlabel('Home Team', fontsize = 14)\n",
        "plt.axhline(y=result_score[\"AverageScoringMargin\"].mean(),color='gray',linestyle='--', label='Mean = 0.13')\n",
        "legend = ax.legend(loc='upper right')\n",
        "ax.grid(False)\n",
        "plt.show()"
      ],
      "execution_count": 0,
      "outputs": [
        {
          "output_type": "display_data",
          "data": {
            "image/png": "[encoded data removed]",
            "text/plain": [
              "<Figure size 1152x432 with 1 Axes>"
            ]
          },
          "metadata": {
            "tags": []
          }
        }
      ]
    },
    {
      "cell_type": "code",
      "metadata": {
        "id": "qBjPbhkIG7uD",
        "colab_type": "code",
        "outputId": "fdc2dd61-f917-4e53-a6db-349c48ec5438",
        "colab": {
          "base_uri": "https://localhost:8080/",
          "height": 204
        }
      },
      "source": [
        "# Checking for correctness\n",
        "result_score.head(5)"
      ],
      "execution_count": 0,
      "outputs": [
        {
          "output_type": "execute_result",
          "data": {
            "text/html": [
              "<div>\n",
              "<style scoped>\n",
              "    .dataframe tbody tr th:only-of-type {\n",
              "        vertical-align: middle;\n",
              "    }\n",
              "\n",
              "    .dataframe tbody tr th {\n",
              "        vertical-align: top;\n",
              "    }\n",
              "\n",
              "    .dataframe thead th {\n",
              "        text-align: right;\n",
              "    }\n",
              "</style>\n",
              "<table border=\"1\" class=\"dataframe\">\n",
              "  <thead>\n",
              "    <tr style=\"text-align: right;\">\n",
              "      <th></th>\n",
              "      <th></th>\n",
              "      <th>sum</th>\n",
              "      <th>size</th>\n",
              "      <th>AverageScoringMargin</th>\n",
              "    </tr>\n",
              "  </thead>\n",
              "  <tbody>\n",
              "    <tr>\n",
              "      <th>22</th>\n",
              "      <td>Man United</td>\n",
              "      <td>435</td>\n",
              "      <td>304</td>\n",
              "      <td>1.430921</td>\n",
              "    </tr>\n",
              "    <tr>\n",
              "      <th>11</th>\n",
              "      <td>Chelsea</td>\n",
              "      <td>419</td>\n",
              "      <td>304</td>\n",
              "      <td>1.378289</td>\n",
              "    </tr>\n",
              "    <tr>\n",
              "      <th>0</th>\n",
              "      <td>Arsenal</td>\n",
              "      <td>417</td>\n",
              "      <td>304</td>\n",
              "      <td>1.371711</td>\n",
              "    </tr>\n",
              "    <tr>\n",
              "      <th>20</th>\n",
              "      <td>Liverpool</td>\n",
              "      <td>352</td>\n",
              "      <td>304</td>\n",
              "      <td>1.157895</td>\n",
              "    </tr>\n",
              "    <tr>\n",
              "      <th>21</th>\n",
              "      <td>Man City</td>\n",
              "      <td>334</td>\n",
              "      <td>304</td>\n",
              "      <td>1.098684</td>\n",
              "    </tr>\n",
              "  </tbody>\n",
              "</table>\n",
              "</div>"
            ],
            "text/plain": [
              "                sum  size  AverageScoringMargin\n",
              "22  Man United  435   304              1.430921\n",
              "11     Chelsea  419   304              1.378289\n",
              "0      Arsenal  417   304              1.371711\n",
              "20   Liverpool  352   304              1.157895\n",
              "21    Man City  334   304              1.098684"
            ]
          },
          "metadata": {
            "tags": []
          },
          "execution_count": 412
        }
      ]
    },
    {
      "cell_type": "markdown",
      "metadata": {
        "id": "DirsWyVrA6lS",
        "colab_type": "text"
      },
      "source": [
        "## **Referee**"
      ]
    },
    {
      "cell_type": "markdown",
      "metadata": {
        "id": "v5yycR2BMT18",
        "colab_type": "text"
      },
      "source": [
        "## **Average Foul Margin**"
      ]
    },
    {
      "cell_type": "code",
      "metadata": {
        "id": "Z4lv7uv4A-Pa",
        "colab_type": "code",
        "outputId": "40455b58-11a2-4e5f-b2f9-bf0340f63eb5",
        "colab": {
          "base_uri": "https://localhost:8080/",
          "height": 441
        }
      },
      "source": [
        "# The FoulDifference refers to the number of fouls committed by hometeam minus the number of fouls by the awayteam\n",
        "cleaned_df['FoulDifference'] = cleaned_df['AF'] - cleaned_df['HF']\n",
        "margin_foul = cleaned_df.groupby(['HomeTeam']).agg({'FoulDifference': ['sum','size']})\n",
        "margin_foul = margin_foul.reset_index()\n",
        "margin_foul.columns = margin_foul.columns.droplevel(level=0)\n",
        "\n",
        "# The more positive the foul margin, the higher the number of away fouls committed compared to the home fouls\n",
        "margin_foul['AverageFoulMargin'] = margin_foul['sum']/margin_foul['size']\n",
        "\n",
        "# Calculating the win rate of each seperate team\n",
        "winrate = cleaned_df.copy()\n",
        "aggregate_winrate = winrate.groupby(['HomeTeam', 'FTR']).size().reset_index(name=\"No. of teams\")\n",
        "result_winrate = pd.pivot_table(aggregate_winrate, index=['HomeTeam'], columns=['FTR'],\n",
        "                                        values='No. of teams', aggfunc=np.sum)\n",
        "result_winrate = result_winrate.reset_index()\n",
        "result_winrate['HomeWinRate'] = result_winrate['H'] / (result_winrate['H'] + result_winrate['A'] + result_winrate['D'])\n",
        "result_winrate = result_winrate.sort_values(['HomeWinRate'], ascending = False)\n",
        "\n",
        "margin_foul['HomeWinRate'] = result_winrate['H'] / (result_winrate['H'] + result_winrate['A'] + result_winrate['D'])\n",
        "margin_foul = margin_foul.sort_values(['HomeWinRate'], ascending = False)\n",
        "\n",
        "margin_foul['positive'] = margin_foul['AverageFoulMargin'] > 0\n",
        "\n",
        "# Plotting bar chart (average foul margin)\n",
        "fig, ax = plt.subplots()\n",
        "margin_foul.plot(x='', y = \"AverageFoulMargin\", kind='bar',ax=ax, figsize=DIMS, color=margin_foul.positive.map({True: 'darkblue', False: 'skyblue'}), rot = 90)\n",
        "ax.set_title('Average Foul Margin vs Home Win Rate (2002-2018)', fontsize = 18)\n",
        "ax.set_ylabel('Average Foul Margin', color ='darkblue', fontsize = 14)\n",
        "ax.set_xlabel('Home Team', fontsize = 14)\n",
        "\n",
        "# Plotting line graph (win rate)\n",
        "ax_new = ax.twinx()\n",
        "result_winrate.plot(x='HomeTeam',y = \"HomeWinRate\", kind='line',ax=ax_new, figsize=DIMS, color='darkgreen')\n",
        "ax_new.set_ylabel('Home Win Rate', color = 'darkgreen', fontsize = 14)\n",
        "ax.legend(['Average Foul Margin                                     '])\n",
        "ax_new.legend(['Home Win Rate'])\n",
        "ax_new.grid(False)\n",
        "fig.tight_layout()\n",
        "plt.show()"
      ],
      "execution_count": 0,
      "outputs": [
        {
          "output_type": "display_data",
          "data": {
            "image/png": "[encoded data removed]",
            "text/plain": [
              "<Figure size 1152x432 with 2 Axes>"
            ]
          },
          "metadata": {
            "tags": []
          }
        }
      ]
    },
    {
      "cell_type": "markdown",
      "metadata": {
        "id": "DuJFjON3L_Kl",
        "colab_type": "text"
      },
      "source": [
        "## **Yellow Card Margin**"
      ]
    },
    {
      "cell_type": "code",
      "metadata": {
        "id": "E3DdimxcL5Do",
        "colab_type": "code",
        "outputId": "a7a318f9-0272-493d-a07a-7d4717e54d3c",
        "colab": {
          "base_uri": "https://localhost:8080/",
          "height": 441
        }
      },
      "source": [
        "# YellowDifference refers to the number of yellow cards by awayteam minus number of yellow cards by hometeam\n",
        "cleaned_df['YellowDifference'] = cleaned_df['AY'] - cleaned_df['HY']\n",
        "margin_yellow_card = cleaned_df.groupby(['HomeTeam']).agg({'YellowDifference': ['sum','size']})\n",
        "margin_yellow_card = margin_yellow_card.reset_index()\n",
        "margin_yellow_card.columns = margin_yellow_card.columns.droplevel(level=0)\n",
        "\n",
        "# The more positive the yellow card margin, the higher the number of awayteam yellow cards compared to the hometeam yellow cards\n",
        "margin_yellow_card['AverageYellowMargin'] = margin_yellow_card['sum']/margin_yellow_card['size']\n",
        "margin_yellow_card['HomeWinRate'] = result_winrate['H'] / (result_winrate['H'] + result_winrate['A'] + result_winrate['D'])\n",
        "margin_yellow_card = margin_yellow_card.sort_values(['HomeWinRate'], ascending = False)\n",
        "\n",
        "margin_yellow_card['positive'] = margin_yellow_card['AverageYellowMargin'] > 0\n",
        "\n",
        "# Plotting bar chart  (yellow card margin)\n",
        "fig, ax = plt.subplots()\n",
        "margin_yellow_card.plot(x='', y = \"AverageYellowMargin\", kind='bar',ax=ax, figsize=DIMS, color=margin_yellow_card.positive.map({True: 'darkblue', False: 'skyblue'}), rot = 90)\n",
        "ax.set_title('Average Yellow Card Margin vs Home Win Rate (2002-2018)', fontsize = 18)\n",
        "ax.set_ylabel('Average Yellow Card Margin', color ='darkblue', fontsize = 14)\n",
        "ax.set_xlabel('Home Team', fontsize = 14)\n",
        "\n",
        "# Plotting line graph (win rate)\n",
        "ax_new = ax.twinx()\n",
        "result_winrate.plot(x='HomeTeam',y = \"HomeWinRate\", kind='line',ax=ax_new, figsize=DIMS, color='darkgreen')\n",
        "ax_new.set_ylabel('Home Win Rate', color = 'darkgreen', fontsize = 14)\n",
        "ax.legend(['Average Yellow Card Margin                                     '])\n",
        "ax_new.legend(['Home Win Rate'])\n",
        "ax_new.grid(False)\n",
        "fig.tight_layout()\n",
        "plt.show()"
      ],
      "execution_count": 0,
      "outputs": [
        {
          "output_type": "display_data",
          "data": {
            "image/png": "[encoded data removed]",
            "text/plain": [
              "<Figure size 1152x432 with 2 Axes>"
            ]
          },
          "metadata": {
            "tags": []
          }
        }
      ]
    },
    {
      "cell_type": "markdown",
      "metadata": {
        "id": "65nAVJF2NwWj",
        "colab_type": "text"
      },
      "source": [
        "## **Red Card Margin**"
      ]
    },
    {
      "cell_type": "code",
      "metadata": {
        "id": "Ya4KyeTtNu5J",
        "colab_type": "code",
        "outputId": "d3bddea6-2709-42a4-bf06-e171ff225fe5",
        "colab": {
          "base_uri": "https://localhost:8080/",
          "height": 441
        }
      },
      "source": [
        "# RedDifference refers to the number of red cards by awayteam minus number of red cards by hometeam\n",
        "cleaned_df['RedDifference'] = cleaned_df['AR'] - cleaned_df['HR']\n",
        "margin_red_card = cleaned_df.groupby(['HomeTeam']).agg({'RedDifference': ['sum','size']})\n",
        "margin_red_card = margin_red_card.reset_index()\n",
        "margin_red_card.columns = margin_red_card.columns.droplevel(level=0)\n",
        "\n",
        "# The more positive the red card margin, the higher the number of awayteam red cards compared to the hometeam red cards\n",
        "margin_red_card['AverageRedMargin'] = margin_red_card['sum']/margin_red_card['size']\n",
        "margin_red_card['HomeWinRate'] = result_winrate['H'] / (result_winrate['H'] + result_winrate['A'] + result_winrate['D'])\n",
        "margin_red_card = margin_red_card.sort_values(['HomeWinRate'], ascending = False)\n",
        "\n",
        "\n",
        "margin_red_card['positive'] = margin_red_card['AverageRedMargin'] > 0\n",
        "\n",
        "# Plotting bar chart  (red card margin)\n",
        "fig, ax = plt.subplots()\n",
        "margin_red_card.plot(x='', y = \"AverageRedMargin\", kind='bar',ax=ax, figsize=DIMS, color=margin_red_card.positive.map({True: 'darkblue', False: 'skyblue'}), rot = 90)\n",
        "ax.set_title('Average Red Card Margin vs Home Win Rate (2002-2018)', fontsize = 18)\n",
        "ax.set_ylabel('Average Red Card Margin', color ='darkblue', fontsize = 14)\n",
        "ax.set_xlabel('Home Team', fontsize = 14)\n",
        "\n",
        "# Plotting line graph (win rate)\n",
        "ax_new = ax.twinx()\n",
        "result_winrate.plot(x='HomeTeam',y = \"HomeWinRate\", kind='line',ax=ax_new, figsize=DIMS, color='darkgreen')\n",
        "ax_new.set_ylabel('Home Win Rate', color = 'darkgreen', fontsize = 14)\n",
        "ax.legend(['Average Red Card Margin                                     '])\n",
        "ax_new.legend(['Home Win Rate'])\n",
        "ax_new.grid(False)\n",
        "fig.tight_layout()\n",
        "plt.show()"
      ],
      "execution_count": 0,
      "outputs": [
        {
          "output_type": "display_data",
          "data": {
            "image/png": "[encoded data removed]",
            "text/plain": [
              "<Figure size 1152x432 with 2 Axes>"
            ]
          },
          "metadata": {
            "tags": []
          }
        }
      ]
    },
    {
      "cell_type": "code",
      "metadata": {
        "id": "j2fBC1J8XWbB",
        "colab_type": "code",
        "outputId": "22c42707-8910-40ba-f815-acf1e6b7902b",
        "colab": {
          "base_uri": "https://localhost:8080/",
          "height": 204
        }
      },
      "source": [
        "# Checking if done correct\n",
        "margin_red_card.head(5)"
      ],
      "execution_count": 0,
      "outputs": [
        {
          "output_type": "execute_result",
          "data": {
            "text/html": [
              "<div>\n",
              "<style scoped>\n",
              "    .dataframe tbody tr th:only-of-type {\n",
              "        vertical-align: middle;\n",
              "    }\n",
              "\n",
              "    .dataframe tbody tr th {\n",
              "        vertical-align: top;\n",
              "    }\n",
              "\n",
              "    .dataframe thead th {\n",
              "        text-align: right;\n",
              "    }\n",
              "</style>\n",
              "<table border=\"1\" class=\"dataframe\">\n",
              "  <thead>\n",
              "    <tr style=\"text-align: right;\">\n",
              "      <th></th>\n",
              "      <th></th>\n",
              "      <th>sum</th>\n",
              "      <th>size</th>\n",
              "      <th>AverageRedMargin</th>\n",
              "      <th>HomeWinRate</th>\n",
              "      <th>positive</th>\n",
              "    </tr>\n",
              "  </thead>\n",
              "  <tbody>\n",
              "    <tr>\n",
              "      <th>22</th>\n",
              "      <td>Man United</td>\n",
              "      <td>20</td>\n",
              "      <td>304</td>\n",
              "      <td>0.065789</td>\n",
              "      <td>0.736842</td>\n",
              "      <td>True</td>\n",
              "    </tr>\n",
              "    <tr>\n",
              "      <th>0</th>\n",
              "      <td>Arsenal</td>\n",
              "      <td>26</td>\n",
              "      <td>304</td>\n",
              "      <td>0.085526</td>\n",
              "      <td>0.687500</td>\n",
              "      <td>True</td>\n",
              "    </tr>\n",
              "    <tr>\n",
              "      <th>11</th>\n",
              "      <td>Chelsea</td>\n",
              "      <td>8</td>\n",
              "      <td>304</td>\n",
              "      <td>0.026316</td>\n",
              "      <td>0.687500</td>\n",
              "      <td>True</td>\n",
              "    </tr>\n",
              "    <tr>\n",
              "      <th>21</th>\n",
              "      <td>Man City</td>\n",
              "      <td>5</td>\n",
              "      <td>304</td>\n",
              "      <td>0.016447</td>\n",
              "      <td>0.615132</td>\n",
              "      <td>True</td>\n",
              "    </tr>\n",
              "    <tr>\n",
              "      <th>20</th>\n",
              "      <td>Liverpool</td>\n",
              "      <td>25</td>\n",
              "      <td>304</td>\n",
              "      <td>0.082237</td>\n",
              "      <td>0.598684</td>\n",
              "      <td>True</td>\n",
              "    </tr>\n",
              "  </tbody>\n",
              "</table>\n",
              "</div>"
            ],
            "text/plain": [
              "                sum  size  AverageRedMargin  HomeWinRate  positive\n",
              "22  Man United   20   304          0.065789     0.736842      True\n",
              "0      Arsenal   26   304          0.085526     0.687500      True\n",
              "11     Chelsea    8   304          0.026316     0.687500      True\n",
              "21    Man City    5   304          0.016447     0.615132      True\n",
              "20   Liverpool   25   304          0.082237     0.598684      True"
            ]
          },
          "metadata": {
            "tags": []
          },
          "execution_count": 416
        }
      ]
    },
    {
      "cell_type": "markdown",
      "metadata": {
        "id": "zsYl7OA8PjNE",
        "colab_type": "text"
      },
      "source": [
        "## **Referee Bias**"
      ]
    },
    {
      "cell_type": "code",
      "metadata": {
        "id": "RQN99YHcPoOr",
        "colab_type": "code",
        "outputId": "7703d144-024d-4b3a-83c9-e3f5ea9ccd75",
        "colab": {
          "base_uri": "https://localhost:8080/",
          "height": 204
        }
      },
      "source": [
        "cleaned_df['RefereeBias'] = (cleaned_df['AY'] + 2 * cleaned_df['AR']) - (cleaned_df['HY'] + 2* cleaned_df['HR'])\n",
        "referee_reputation = cleaned_df.groupby(['Referee']).agg({'RefereeBias': ['sum','size']})\n",
        "referee_reputation = referee_reputation.reset_index()\n",
        "referee_reputation.columns = referee_reputation.columns.droplevel(level=0)\n",
        "\n",
        "referee_reputation['AverageRefereeReputation'] = referee_reputation['sum']/referee_reputation['size']\n",
        "referee_reputation = referee_reputation.sort_values(by=['AverageRefereeReputation'],ascending=False)\n",
        "referee_reputation.columns =['Referee', 'sum', 'size', 'RefereeReputation'] \n",
        "referee_reputation.head(5)"
      ],
      "execution_count": 0,
      "outputs": [
        {
          "output_type": "execute_result",
          "data": {
            "text/html": [
              "<div>\n",
              "<style scoped>\n",
              "    .dataframe tbody tr th:only-of-type {\n",
              "        vertical-align: middle;\n",
              "    }\n",
              "\n",
              "    .dataframe tbody tr th {\n",
              "        vertical-align: top;\n",
              "    }\n",
              "\n",
              "    .dataframe thead th {\n",
              "        text-align: right;\n",
              "    }\n",
              "</style>\n",
              "<table border=\"1\" class=\"dataframe\">\n",
              "  <thead>\n",
              "    <tr style=\"text-align: right;\">\n",
              "      <th></th>\n",
              "      <th>Referee</th>\n",
              "      <th>sum</th>\n",
              "      <th>size</th>\n",
              "      <th>RefereeReputation</th>\n",
              "    </tr>\n",
              "  </thead>\n",
              "  <tbody>\n",
              "    <tr>\n",
              "      <th>9</th>\n",
              "      <td>D Coote</td>\n",
              "      <td>2</td>\n",
              "      <td>1</td>\n",
              "      <td>2.000000</td>\n",
              "    </tr>\n",
              "    <tr>\n",
              "      <th>49</th>\n",
              "      <td>S Tanner</td>\n",
              "      <td>28</td>\n",
              "      <td>26</td>\n",
              "      <td>1.076923</td>\n",
              "    </tr>\n",
              "    <tr>\n",
              "      <th>40</th>\n",
              "      <td>R Beeby</td>\n",
              "      <td>3</td>\n",
              "      <td>3</td>\n",
              "      <td>1.000000</td>\n",
              "    </tr>\n",
              "    <tr>\n",
              "      <th>8</th>\n",
              "      <td>C Wilkes</td>\n",
              "      <td>8</td>\n",
              "      <td>8</td>\n",
              "      <td>1.000000</td>\n",
              "    </tr>\n",
              "    <tr>\n",
              "      <th>12</th>\n",
              "      <td>D Pugh</td>\n",
              "      <td>5</td>\n",
              "      <td>5</td>\n",
              "      <td>1.000000</td>\n",
              "    </tr>\n",
              "  </tbody>\n",
              "</table>\n",
              "</div>"
            ],
            "text/plain": [
              "     Referee  sum  size  RefereeReputation\n",
              "9    D Coote    2     1           2.000000\n",
              "49  S Tanner   28    26           1.076923\n",
              "40   R Beeby    3     3           1.000000\n",
              "8   C Wilkes    8     8           1.000000\n",
              "12    D Pugh    5     5           1.000000"
            ]
          },
          "metadata": {
            "tags": []
          },
          "execution_count": 417
        }
      ]
    },
    {
      "cell_type": "code",
      "metadata": {
        "id": "dsuRzH21GaFh",
        "colab_type": "code",
        "colab": {}
      },
      "source": [
        "# Only giving trusted score to experiences referees (more than 10 games)\n",
        "updated_referee = referee_reputation[referee_reputation['size'] > 10] \n",
        "#updated_referee "
      ],
      "execution_count": 0,
      "outputs": []
    },
    {
      "cell_type": "code",
      "metadata": {
        "id": "qgaQQDK9DVUd",
        "colab_type": "code",
        "outputId": "9faa4081-21a4-44f2-a101-00ae3846c960",
        "colab": {
          "base_uri": "https://localhost:8080/",
          "height": 473
        }
      },
      "source": [
        "# Plot the bar chart (referee bias)\n",
        "fig, ax = plt.subplots() \n",
        "clrs = []\n",
        "for i in list(updated_referee['RefereeReputation']):\n",
        "    if round(i,1) <= 0:\n",
        "        clrs.append('skyblue')\n",
        "    else:\n",
        "        clrs.append('darkblue')\n",
        "#plt.ylim(-0.5, 1.5)\n",
        "updated_referee.plot(x='Referee', y = \"RefereeReputation\", kind='bar',ax=ax, figsize=DIMS, color=clrs, label = 'Referee Bias Score')\n",
        "ax.set_title('Referee Bias Score (2002-2018)', fontsize = 18)\n",
        "ax.set_ylabel('Referee Bias Score', fontsize = 14)\n",
        "ax.set_xlabel('Referee (10+ games experience)', fontsize = 14)\n",
        "plt.axhline(y=updated_referee[\"RefereeReputation\"].mean(),color='gray',linestyle='--', label='Mean = 0.47')\n",
        "legend = ax.legend(loc='upper right')\n",
        "ax.grid(False)\n",
        "plt.show()"
      ],
      "execution_count": 0,
      "outputs": [
        {
          "output_type": "display_data",
          "data": {
            "image/png": "[encoded data removed]",
            "text/plain": [
              "<Figure size 1152x432 with 1 Axes>"
            ]
          },
          "metadata": {
            "tags": []
          }
        }
      ]
    },
    {
      "cell_type": "code",
      "metadata": {
        "id": "mdUcSMUYflR9",
        "colab_type": "code",
        "outputId": "d2586232-dfd6-4547-cf31-28665a479da4",
        "colab": {
          "base_uri": "https://localhost:8080/",
          "height": 69
        }
      },
      "source": [
        "# Check if inexperienced referee got deleted\n",
        "cleaned_df.loc[cleaned_df['Referee'] == 'Roy Burton']"
      ],
      "execution_count": 0,
      "outputs": [
        {
          "output_type": "execute_result",
          "data": {
            "text/html": [
              "<div>\n",
              "<style scoped>\n",
              "    .dataframe tbody tr th:only-of-type {\n",
              "        vertical-align: middle;\n",
              "    }\n",
              "\n",
              "    .dataframe tbody tr th {\n",
              "        vertical-align: top;\n",
              "    }\n",
              "\n",
              "    .dataframe thead th {\n",
              "        text-align: right;\n",
              "    }\n",
              "</style>\n",
              "<table border=\"1\" class=\"dataframe\">\n",
              "  <thead>\n",
              "    <tr style=\"text-align: right;\">\n",
              "      <th></th>\n",
              "      <th>Date</th>\n",
              "      <th>HomeTeam</th>\n",
              "      <th>AwayTeam</th>\n",
              "      <th>FTHG</th>\n",
              "      <th>FTAG</th>\n",
              "      <th>FTR</th>\n",
              "      <th>Referee</th>\n",
              "      <th>HF</th>\n",
              "      <th>AF</th>\n",
              "      <th>HY</th>\n",
              "      <th>AY</th>\n",
              "      <th>HR</th>\n",
              "      <th>AR</th>\n",
              "      <th>Season</th>\n",
              "      <th>GoalsDifference</th>\n",
              "      <th>FoulDifference</th>\n",
              "      <th>YellowDifference</th>\n",
              "      <th>RedDifference</th>\n",
              "      <th>RefereeBias</th>\n",
              "    </tr>\n",
              "  </thead>\n",
              "  <tbody>\n",
              "  </tbody>\n",
              "</table>\n",
              "</div>"
            ],
            "text/plain": [
              "Empty DataFrame\n",
              "Columns: [Date, HomeTeam, AwayTeam, FTHG, FTAG, FTR, Referee, HF, AF, HY, AY, HR, AR, Season, GoalsDifference, FoulDifference, YellowDifference, RedDifference, RefereeBias]\n",
              "Index: []"
            ]
          },
          "metadata": {
            "tags": []
          },
          "execution_count": 420
        }
      ]
    },
    {
      "cell_type": "code",
      "metadata": {
        "id": "zY60LatE0iS1",
        "colab_type": "code",
        "outputId": "1020c8dd-6d61-412c-f25f-06d2cf1a9405",
        "colab": {
          "base_uri": "https://localhost:8080/",
          "height": 309
        }
      },
      "source": [
        "# Merging\n",
        "cleaned_df = pd.merge(cleaned_df, referee_reputation, how='left')\n",
        "#cleaned_df = cleaned_df.sort_index(axis = 0)\n",
        "cleaned_df.head(5)"
      ],
      "execution_count": 0,
      "outputs": [
        {
          "output_type": "execute_result",
          "data": {
            "text/html": [
              "<div>\n",
              "<style scoped>\n",
              "    .dataframe tbody tr th:only-of-type {\n",
              "        vertical-align: middle;\n",
              "    }\n",
              "\n",
              "    .dataframe tbody tr th {\n",
              "        vertical-align: top;\n",
              "    }\n",
              "\n",
              "    .dataframe thead th {\n",
              "        text-align: right;\n",
              "    }\n",
              "</style>\n",
              "<table border=\"1\" class=\"dataframe\">\n",
              "  <thead>\n",
              "    <tr style=\"text-align: right;\">\n",
              "      <th></th>\n",
              "      <th>Date</th>\n",
              "      <th>HomeTeam</th>\n",
              "      <th>AwayTeam</th>\n",
              "      <th>FTHG</th>\n",
              "      <th>FTAG</th>\n",
              "      <th>FTR</th>\n",
              "      <th>Referee</th>\n",
              "      <th>HF</th>\n",
              "      <th>AF</th>\n",
              "      <th>HY</th>\n",
              "      <th>AY</th>\n",
              "      <th>HR</th>\n",
              "      <th>AR</th>\n",
              "      <th>Season</th>\n",
              "      <th>GoalsDifference</th>\n",
              "      <th>FoulDifference</th>\n",
              "      <th>YellowDifference</th>\n",
              "      <th>RedDifference</th>\n",
              "      <th>RefereeBias</th>\n",
              "      <th>sum</th>\n",
              "      <th>size</th>\n",
              "      <th>RefereeReputation</th>\n",
              "    </tr>\n",
              "  </thead>\n",
              "  <tbody>\n",
              "    <tr>\n",
              "      <th>0</th>\n",
              "      <td>2002-08-17</td>\n",
              "      <td>Blackburn</td>\n",
              "      <td>Sunderland</td>\n",
              "      <td>0</td>\n",
              "      <td>0</td>\n",
              "      <td>D</td>\n",
              "      <td>D Elleray</td>\n",
              "      <td>14</td>\n",
              "      <td>11</td>\n",
              "      <td>1</td>\n",
              "      <td>2</td>\n",
              "      <td>0</td>\n",
              "      <td>0</td>\n",
              "      <td>02-03</td>\n",
              "      <td>0</td>\n",
              "      <td>-3</td>\n",
              "      <td>1</td>\n",
              "      <td>0</td>\n",
              "      <td>1</td>\n",
              "      <td>14</td>\n",
              "      <td>17</td>\n",
              "      <td>0.823529</td>\n",
              "    </tr>\n",
              "    <tr>\n",
              "      <th>1</th>\n",
              "      <td>2002-08-17</td>\n",
              "      <td>Charlton</td>\n",
              "      <td>Chelsea</td>\n",
              "      <td>2</td>\n",
              "      <td>3</td>\n",
              "      <td>A</td>\n",
              "      <td>G Barber</td>\n",
              "      <td>10</td>\n",
              "      <td>12</td>\n",
              "      <td>0</td>\n",
              "      <td>3</td>\n",
              "      <td>1</td>\n",
              "      <td>0</td>\n",
              "      <td>02-03</td>\n",
              "      <td>-1</td>\n",
              "      <td>2</td>\n",
              "      <td>3</td>\n",
              "      <td>-1</td>\n",
              "      <td>1</td>\n",
              "      <td>18</td>\n",
              "      <td>40</td>\n",
              "      <td>0.450000</td>\n",
              "    </tr>\n",
              "    <tr>\n",
              "      <th>2</th>\n",
              "      <td>2002-08-17</td>\n",
              "      <td>Everton</td>\n",
              "      <td>Tottenham</td>\n",
              "      <td>2</td>\n",
              "      <td>2</td>\n",
              "      <td>D</td>\n",
              "      <td>N Barry</td>\n",
              "      <td>18</td>\n",
              "      <td>4</td>\n",
              "      <td>1</td>\n",
              "      <td>1</td>\n",
              "      <td>0</td>\n",
              "      <td>0</td>\n",
              "      <td>02-03</td>\n",
              "      <td>0</td>\n",
              "      <td>-14</td>\n",
              "      <td>0</td>\n",
              "      <td>0</td>\n",
              "      <td>0</td>\n",
              "      <td>34</td>\n",
              "      <td>61</td>\n",
              "      <td>0.557377</td>\n",
              "    </tr>\n",
              "    <tr>\n",
              "      <th>3</th>\n",
              "      <td>2002-08-17</td>\n",
              "      <td>Fulham</td>\n",
              "      <td>Bolton</td>\n",
              "      <td>4</td>\n",
              "      <td>1</td>\n",
              "      <td>H</td>\n",
              "      <td>A Wiley</td>\n",
              "      <td>16</td>\n",
              "      <td>12</td>\n",
              "      <td>1</td>\n",
              "      <td>2</td>\n",
              "      <td>0</td>\n",
              "      <td>0</td>\n",
              "      <td>02-03</td>\n",
              "      <td>3</td>\n",
              "      <td>-4</td>\n",
              "      <td>1</td>\n",
              "      <td>0</td>\n",
              "      <td>1</td>\n",
              "      <td>88</td>\n",
              "      <td>207</td>\n",
              "      <td>0.425121</td>\n",
              "    </tr>\n",
              "    <tr>\n",
              "      <th>4</th>\n",
              "      <td>2002-08-17</td>\n",
              "      <td>Leeds</td>\n",
              "      <td>Man City</td>\n",
              "      <td>3</td>\n",
              "      <td>0</td>\n",
              "      <td>H</td>\n",
              "      <td>G Poll</td>\n",
              "      <td>13</td>\n",
              "      <td>13</td>\n",
              "      <td>1</td>\n",
              "      <td>1</td>\n",
              "      <td>0</td>\n",
              "      <td>0</td>\n",
              "      <td>02-03</td>\n",
              "      <td>3</td>\n",
              "      <td>0</td>\n",
              "      <td>0</td>\n",
              "      <td>0</td>\n",
              "      <td>0</td>\n",
              "      <td>74</td>\n",
              "      <td>139</td>\n",
              "      <td>0.532374</td>\n",
              "    </tr>\n",
              "  </tbody>\n",
              "</table>\n",
              "</div>"
            ],
            "text/plain": [
              "        Date   HomeTeam    AwayTeam  ...  sum  size RefereeReputation\n",
              "0 2002-08-17  Blackburn  Sunderland  ...   14    17          0.823529\n",
              "1 2002-08-17   Charlton     Chelsea  ...   18    40          0.450000\n",
              "2 2002-08-17    Everton   Tottenham  ...   34    61          0.557377\n",
              "3 2002-08-17     Fulham      Bolton  ...   88   207          0.425121\n",
              "4 2002-08-17      Leeds    Man City  ...   74   139          0.532374\n",
              "\n",
              "[5 rows x 22 columns]"
            ]
          },
          "metadata": {
            "tags": []
          },
          "execution_count": 421
        }
      ]
    },
    {
      "cell_type": "markdown",
      "metadata": {
        "id": "rxFu9rZeKM2g",
        "colab_type": "text"
      },
      "source": [
        "## **Season Home Goals vs Away Goals**"
      ]
    },
    {
      "cell_type": "code",
      "metadata": {
        "id": "DZ2KRobTKYy9",
        "colab_type": "code",
        "outputId": "75a8db29-78cb-41cd-e4e2-f6b06b113527",
        "colab": {
          "base_uri": "https://localhost:8080/",
          "height": 376
        }
      },
      "source": [
        "# Checking for mean home goals vs mean away goals for season 16/17\n",
        "Season16_17 = cleaned_df[cleaned_df['Season'] == '16-17']\n",
        "team_list = cleaned_df[cleaned_df['Season'] == '16-17']['HomeTeam'].unique()\n",
        "\n",
        "home_points_list = []\n",
        "away_points_list = []\n",
        "for i in team_list:\n",
        "    hometeam_df = Season16_17[Season16_17['HomeTeam'] == i]\n",
        "    awayteam_df = Season16_17[Season16_17['AwayTeam'] == i]\n",
        "    hometeam = hometeam_df['HomeTeam'] == i\n",
        "    awayteam = awayteam_df['AwayTeam'] == i\n",
        "    home_points_list.append(hometeam_df.loc[hometeam,'FTHG'].mean())\n",
        "    away_points_list.append(awayteam_df.loc[awayteam, 'FTHG'].mean())\n",
        "dataframe = pd.DataFrame({'Team':team_list,'Mean Home Goals': home_points_list,'Mean Away Goals' : away_points_list})\n",
        "dataframe.set_index('Team', inplace=True)\n",
        "dataframe.plot(kind='bar',title='Mean Home and Away Goals in Season 16/17 ')"
      ],
      "execution_count": 0,
      "outputs": [
        {
          "output_type": "execute_result",
          "data": {
            "text/plain": [
              "<matplotlib.axes._subplots.AxesSubplot at 0x7f35ea2e3d30>"
            ]
          },
          "metadata": {
            "tags": []
          },
          "execution_count": 422
        },
        {
          "output_type": "display_data",
          "data": {
            "image/png": "[encoded data removed]",
            "text/plain": [
              "<Figure size 432x288 with 1 Axes>"
            ]
          },
          "metadata": {
            "tags": []
          }
        }
      ]
    },
    {
      "cell_type": "code",
      "metadata": {
        "id": "a-UBjJXMiQ5t",
        "colab_type": "code",
        "outputId": "0c4aae1b-f638-4beb-f17c-024a4d90e78a",
        "colab": {
          "base_uri": "https://localhost:8080/",
          "height": 309
        }
      },
      "source": [
        "cleaned_df.head(5)"
      ],
      "execution_count": 0,
      "outputs": [
        {
          "output_type": "execute_result",
          "data": {
            "text/html": [
              "<div>\n",
              "<style scoped>\n",
              "    .dataframe tbody tr th:only-of-type {\n",
              "        vertical-align: middle;\n",
              "    }\n",
              "\n",
              "    .dataframe tbody tr th {\n",
              "        vertical-align: top;\n",
              "    }\n",
              "\n",
              "    .dataframe thead th {\n",
              "        text-align: right;\n",
              "    }\n",
              "</style>\n",
              "<table border=\"1\" class=\"dataframe\">\n",
              "  <thead>\n",
              "    <tr style=\"text-align: right;\">\n",
              "      <th></th>\n",
              "      <th>Date</th>\n",
              "      <th>HomeTeam</th>\n",
              "      <th>AwayTeam</th>\n",
              "      <th>FTHG</th>\n",
              "      <th>FTAG</th>\n",
              "      <th>FTR</th>\n",
              "      <th>Referee</th>\n",
              "      <th>HF</th>\n",
              "      <th>AF</th>\n",
              "      <th>HY</th>\n",
              "      <th>AY</th>\n",
              "      <th>HR</th>\n",
              "      <th>AR</th>\n",
              "      <th>Season</th>\n",
              "      <th>GoalsDifference</th>\n",
              "      <th>FoulDifference</th>\n",
              "      <th>YellowDifference</th>\n",
              "      <th>RedDifference</th>\n",
              "      <th>RefereeBias</th>\n",
              "      <th>sum</th>\n",
              "      <th>size</th>\n",
              "      <th>RefereeReputation</th>\n",
              "    </tr>\n",
              "  </thead>\n",
              "  <tbody>\n",
              "    <tr>\n",
              "      <th>0</th>\n",
              "      <td>2002-08-17</td>\n",
              "      <td>Blackburn</td>\n",
              "      <td>Sunderland</td>\n",
              "      <td>0</td>\n",
              "      <td>0</td>\n",
              "      <td>D</td>\n",
              "      <td>D Elleray</td>\n",
              "      <td>14</td>\n",
              "      <td>11</td>\n",
              "      <td>1</td>\n",
              "      <td>2</td>\n",
              "      <td>0</td>\n",
              "      <td>0</td>\n",
              "      <td>02-03</td>\n",
              "      <td>0</td>\n",
              "      <td>-3</td>\n",
              "      <td>1</td>\n",
              "      <td>0</td>\n",
              "      <td>1</td>\n",
              "      <td>14</td>\n",
              "      <td>17</td>\n",
              "      <td>0.823529</td>\n",
              "    </tr>\n",
              "    <tr>\n",
              "      <th>1</th>\n",
              "      <td>2002-08-17</td>\n",
              "      <td>Charlton</td>\n",
              "      <td>Chelsea</td>\n",
              "      <td>2</td>\n",
              "      <td>3</td>\n",
              "      <td>A</td>\n",
              "      <td>G Barber</td>\n",
              "      <td>10</td>\n",
              "      <td>12</td>\n",
              "      <td>0</td>\n",
              "      <td>3</td>\n",
              "      <td>1</td>\n",
              "      <td>0</td>\n",
              "      <td>02-03</td>\n",
              "      <td>-1</td>\n",
              "      <td>2</td>\n",
              "      <td>3</td>\n",
              "      <td>-1</td>\n",
              "      <td>1</td>\n",
              "      <td>18</td>\n",
              "      <td>40</td>\n",
              "      <td>0.450000</td>\n",
              "    </tr>\n",
              "    <tr>\n",
              "      <th>2</th>\n",
              "      <td>2002-08-17</td>\n",
              "      <td>Everton</td>\n",
              "      <td>Tottenham</td>\n",
              "      <td>2</td>\n",
              "      <td>2</td>\n",
              "      <td>D</td>\n",
              "      <td>N Barry</td>\n",
              "      <td>18</td>\n",
              "      <td>4</td>\n",
              "      <td>1</td>\n",
              "      <td>1</td>\n",
              "      <td>0</td>\n",
              "      <td>0</td>\n",
              "      <td>02-03</td>\n",
              "      <td>0</td>\n",
              "      <td>-14</td>\n",
              "      <td>0</td>\n",
              "      <td>0</td>\n",
              "      <td>0</td>\n",
              "      <td>34</td>\n",
              "      <td>61</td>\n",
              "      <td>0.557377</td>\n",
              "    </tr>\n",
              "    <tr>\n",
              "      <th>3</th>\n",
              "      <td>2002-08-17</td>\n",
              "      <td>Fulham</td>\n",
              "      <td>Bolton</td>\n",
              "      <td>4</td>\n",
              "      <td>1</td>\n",
              "      <td>H</td>\n",
              "      <td>A Wiley</td>\n",
              "      <td>16</td>\n",
              "      <td>12</td>\n",
              "      <td>1</td>\n",
              "      <td>2</td>\n",
              "      <td>0</td>\n",
              "      <td>0</td>\n",
              "      <td>02-03</td>\n",
              "      <td>3</td>\n",
              "      <td>-4</td>\n",
              "      <td>1</td>\n",
              "      <td>0</td>\n",
              "      <td>1</td>\n",
              "      <td>88</td>\n",
              "      <td>207</td>\n",
              "      <td>0.425121</td>\n",
              "    </tr>\n",
              "    <tr>\n",
              "      <th>4</th>\n",
              "      <td>2002-08-17</td>\n",
              "      <td>Leeds</td>\n",
              "      <td>Man City</td>\n",
              "      <td>3</td>\n",
              "      <td>0</td>\n",
              "      <td>H</td>\n",
              "      <td>G Poll</td>\n",
              "      <td>13</td>\n",
              "      <td>13</td>\n",
              "      <td>1</td>\n",
              "      <td>1</td>\n",
              "      <td>0</td>\n",
              "      <td>0</td>\n",
              "      <td>02-03</td>\n",
              "      <td>3</td>\n",
              "      <td>0</td>\n",
              "      <td>0</td>\n",
              "      <td>0</td>\n",
              "      <td>0</td>\n",
              "      <td>74</td>\n",
              "      <td>139</td>\n",
              "      <td>0.532374</td>\n",
              "    </tr>\n",
              "  </tbody>\n",
              "</table>\n",
              "</div>"
            ],
            "text/plain": [
              "        Date   HomeTeam    AwayTeam  ...  sum  size RefereeReputation\n",
              "0 2002-08-17  Blackburn  Sunderland  ...   14    17          0.823529\n",
              "1 2002-08-17   Charlton     Chelsea  ...   18    40          0.450000\n",
              "2 2002-08-17    Everton   Tottenham  ...   34    61          0.557377\n",
              "3 2002-08-17     Fulham      Bolton  ...   88   207          0.425121\n",
              "4 2002-08-17      Leeds    Man City  ...   74   139          0.532374\n",
              "\n",
              "[5 rows x 22 columns]"
            ]
          },
          "metadata": {
            "tags": []
          },
          "execution_count": 423
        }
      ]
    },
    {
      "cell_type": "code",
      "metadata": {
        "id": "9o4bFbarmZrN",
        "colab_type": "code",
        "colab": {}
      },
      "source": [
        "season_stats_23 = cleaned_df.loc[cleaned_df['Season'] == '02-03'] \n",
        "season_stats_34 = cleaned_df.loc[cleaned_df['Season'] == '03-04']                    \n",
        "season_stats_45 = cleaned_df.loc[cleaned_df['Season'] == '04-05']  \n",
        "season_stats_56 = cleaned_df.loc[cleaned_df['Season'] == '05-06'] \n",
        "season_stats_67 = cleaned_df.loc[cleaned_df['Season'] == '06-07']                    \n",
        "season_stats_78 = cleaned_df.loc[cleaned_df['Season'] == '07-08']  \n",
        "season_stats_89 = cleaned_df.loc[cleaned_df['Season'] == '08-09'] \n",
        "season_stats_910 = cleaned_df.loc[cleaned_df['Season'] == '09-10']                    \n",
        "season_stats_1011 = cleaned_df.loc[cleaned_df['Season'] == '10-11']  \n",
        "season_stats_1112 = cleaned_df.loc[cleaned_df['Season'] == '11-12'] \n",
        "season_stats_1213 = cleaned_df.loc[cleaned_df['Season'] == '12-13']                    \n",
        "season_stats_1314 = cleaned_df.loc[cleaned_df['Season'] == '13-14']  \n",
        "season_stats_1415 = cleaned_df.loc[cleaned_df['Season'] == '14-15'] \n",
        "season_stats_1516 = cleaned_df.loc[cleaned_df['Season'] == '15-16']                    \n",
        "season_stats_1617 = cleaned_df.loc[cleaned_df['Season'] == '16-17']  \n",
        "season_stats_1718 = cleaned_df.loc[cleaned_df['Season'] == '17-18'] "
      ],
      "execution_count": 0,
      "outputs": []
    },
    {
      "cell_type": "code",
      "metadata": {
        "id": "_ejQ3VN5kpkq",
        "colab_type": "code",
        "outputId": "2ef25800-f1ad-4647-d5b4-b69ae95dfa81",
        "colab": {
          "base_uri": "https://localhost:8080/",
          "height": 969
        }
      },
      "source": [
        "def season_results(playing_stats, year):\n",
        "    return pd.DataFrame(data = [ len(playing_stats[playing_stats.FTR == 'H']),\n",
        "                                 len(playing_stats[playing_stats.FTR == 'A']),\n",
        "                                 len(playing_stats[playing_stats.FTR == 'D'])],\n",
        "                                index = ['Home Team Wins', 'Away Team Wins', 'Draw'], columns =[year]).T\n",
        "\n",
        "season_aggregated = season_results(cleaned_df, 'Overall')\n",
        "season_23 = season_results(season_stats_23, '02-03')\n",
        "season_34 = season_results(season_stats_34, '03-04')\n",
        "season_45 = season_results(season_stats_45, '04-05')\n",
        "season_56 = season_results(season_stats_56, '05-06')\n",
        "season_67 = season_results(season_stats_67, '06-07')\n",
        "season_78 = season_results(season_stats_78, '07-08')\n",
        "season_89 = season_results(season_stats_89, '08-09')\n",
        "season_910 = season_results(season_stats_910, '09-10')\n",
        "season_1011 = season_results(season_stats_1011, '10-11')\n",
        "season_1112 = season_results(season_stats_1112, '11-12')\n",
        "season_1213 = season_results(season_stats_1213, '12-13')\n",
        "season_1314 = season_results(season_stats_1314, '13-14')\n",
        "season_1415 = season_results(season_stats_1415, '14-15')\n",
        "season_1516 = season_results(season_stats_1516, '15-16')\n",
        "season_1617 = season_results(season_stats_1617, '16-17')\n",
        "season_1718 = season_results(season_stats_1718, '17-18')\n",
        "\n",
        "season_stats = pd.concat([season_23, season_34, season_45,\n",
        "                          season_56, season_67, season_78, season_89, season_910,\n",
        "                          season_1011, season_1112, season_1213, season_1314, season_1415,\n",
        "                          season_1516, season_1617, season_1718])\n",
        "\n",
        "# Plotting home wins, away wins and draws\n",
        "ax = season_stats.plot(kind='bar', color = ['darkblue','sandybrown', 'turquoise'], figsize = [16,7.5])\n",
        "ax.set_title('Home Wins, Away Wins and Draws per Season (2002-2018)', size=18)\n",
        "plt.xticks(rotation=0)\n",
        "ax.set_ylabel('Total', size=12)\n",
        "ax.set_xlabel('Season', size=12)\n",
        "\n",
        "# Plotting aggregated result dataframe\n",
        "ax_new = season_aggregated.T.plot(kind='bar', color=['darkblue'], figsize = [16,7.5], \n",
        "                      legend = False)\n",
        "ax_new.set_title('Total Home Wins, Away Wins and Draws (2002-2018)', size=18)\n",
        "\n",
        "plt.xticks(rotation=0)\n",
        "ax_new.set_ylabel('Total', size=12)"
      ],
      "execution_count": 0,
      "outputs": [
        {
          "output_type": "execute_result",
          "data": {
            "text/plain": [
              "Text(0, 0.5, 'Total')"
            ]
          },
          "metadata": {
            "tags": []
          },
          "execution_count": 425
        },
        {
          "output_type": "display_data",
          "data": {
            "image/png": "[encoded data removed]",
            "text/plain": [
              "<Figure size 1152x540 with 1 Axes>"
            ]
          },
          "metadata": {
            "tags": []
          }
        },
        {
          "output_type": "display_data",
          "data": {
            "image/png": "[encoded data removed]",
            "text/plain": [
              "<Figure size 1152x540 with 1 Axes>"
            ]
          },
          "metadata": {
            "tags": []
          }
        }
      ]
    },
    {
      "cell_type": "code",
      "metadata": {
        "id": "3qFoZqX8ljRk",
        "colab_type": "code",
        "outputId": "39cf97dd-16be-45d6-ee37-17fa6226d8a8",
        "colab": {
          "base_uri": "https://localhost:8080/",
          "height": 204
        }
      },
      "source": [
        "# Checking for correctness (each season)\n",
        "season_stats.head(5)"
      ],
      "execution_count": 0,
      "outputs": [
        {
          "output_type": "execute_result",
          "data": {
            "text/html": [
              "<div>\n",
              "<style scoped>\n",
              "    .dataframe tbody tr th:only-of-type {\n",
              "        vertical-align: middle;\n",
              "    }\n",
              "\n",
              "    .dataframe tbody tr th {\n",
              "        vertical-align: top;\n",
              "    }\n",
              "\n",
              "    .dataframe thead th {\n",
              "        text-align: right;\n",
              "    }\n",
              "</style>\n",
              "<table border=\"1\" class=\"dataframe\">\n",
              "  <thead>\n",
              "    <tr style=\"text-align: right;\">\n",
              "      <th></th>\n",
              "      <th>Home Team Wins</th>\n",
              "      <th>Away Team Wins</th>\n",
              "      <th>Draw</th>\n",
              "    </tr>\n",
              "  </thead>\n",
              "  <tbody>\n",
              "    <tr>\n",
              "      <th>02-03</th>\n",
              "      <td>187</td>\n",
              "      <td>103</td>\n",
              "      <td>90</td>\n",
              "    </tr>\n",
              "    <tr>\n",
              "      <th>03-04</th>\n",
              "      <td>167</td>\n",
              "      <td>105</td>\n",
              "      <td>108</td>\n",
              "    </tr>\n",
              "    <tr>\n",
              "      <th>04-05</th>\n",
              "      <td>173</td>\n",
              "      <td>97</td>\n",
              "      <td>110</td>\n",
              "    </tr>\n",
              "    <tr>\n",
              "      <th>05-06</th>\n",
              "      <td>192</td>\n",
              "      <td>111</td>\n",
              "      <td>77</td>\n",
              "    </tr>\n",
              "    <tr>\n",
              "      <th>06-07</th>\n",
              "      <td>182</td>\n",
              "      <td>100</td>\n",
              "      <td>98</td>\n",
              "    </tr>\n",
              "  </tbody>\n",
              "</table>\n",
              "</div>"
            ],
            "text/plain": [
              "       Home Team Wins  Away Team Wins  Draw\n",
              "02-03             187             103    90\n",
              "03-04             167             105   108\n",
              "04-05             173              97   110\n",
              "05-06             192             111    77\n",
              "06-07             182             100    98"
            ]
          },
          "metadata": {
            "tags": []
          },
          "execution_count": 426
        }
      ]
    },
    {
      "cell_type": "code",
      "metadata": {
        "id": "l18MdCTurp79",
        "colab_type": "code",
        "outputId": "2e5e811e-abd0-433a-c582-da4a40a99518",
        "colab": {
          "base_uri": "https://localhost:8080/",
          "height": 80
        }
      },
      "source": [
        "season_aggregated"
      ],
      "execution_count": 0,
      "outputs": [
        {
          "output_type": "execute_result",
          "data": {
            "text/html": [
              "<div>\n",
              "<style scoped>\n",
              "    .dataframe tbody tr th:only-of-type {\n",
              "        vertical-align: middle;\n",
              "    }\n",
              "\n",
              "    .dataframe tbody tr th {\n",
              "        vertical-align: top;\n",
              "    }\n",
              "\n",
              "    .dataframe thead th {\n",
              "        text-align: right;\n",
              "    }\n",
              "</style>\n",
              "<table border=\"1\" class=\"dataframe\">\n",
              "  <thead>\n",
              "    <tr style=\"text-align: right;\">\n",
              "      <th></th>\n",
              "      <th>Home Team Wins</th>\n",
              "      <th>Away Team Wins</th>\n",
              "      <th>Draw</th>\n",
              "    </tr>\n",
              "  </thead>\n",
              "  <tbody>\n",
              "    <tr>\n",
              "      <th>Overall</th>\n",
              "      <td>2827</td>\n",
              "      <td>1704</td>\n",
              "      <td>1549</td>\n",
              "    </tr>\n",
              "  </tbody>\n",
              "</table>\n",
              "</div>"
            ],
            "text/plain": [
              "         Home Team Wins  Away Team Wins  Draw\n",
              "Overall            2827            1704  1549"
            ]
          },
          "metadata": {
            "tags": []
          },
          "execution_count": 427
        }
      ]
    },
    {
      "cell_type": "code",
      "metadata": {
        "id": "kvuMJmRssRrG",
        "colab_type": "code",
        "outputId": "3db575cd-bb95-42bd-cebb-c141cbd67bbe",
        "colab": {
          "base_uri": "https://localhost:8080/",
          "height": 230
        }
      },
      "source": [
        "slicing_season = season_stats.T\n",
        "\n",
        "for i in slicing_season.columns:\n",
        "    slicing_season[i] = (slicing_season[i] * 100) / 380  \n",
        "\n",
        "# Renaming the columns\n",
        "slicing_season.rename(index={'Home Wins':'Home', 'Away Wins':'Away', 'Draws':'Draw'}, inplace=True)\n",
        "slicing_season"
      ],
      "execution_count": 0,
      "outputs": [
        {
          "output_type": "execute_result",
          "data": {
            "text/html": [
              "<div>\n",
              "<style scoped>\n",
              "    .dataframe tbody tr th:only-of-type {\n",
              "        vertical-align: middle;\n",
              "    }\n",
              "\n",
              "    .dataframe tbody tr th {\n",
              "        vertical-align: top;\n",
              "    }\n",
              "\n",
              "    .dataframe thead th {\n",
              "        text-align: right;\n",
              "    }\n",
              "</style>\n",
              "<table border=\"1\" class=\"dataframe\">\n",
              "  <thead>\n",
              "    <tr style=\"text-align: right;\">\n",
              "      <th></th>\n",
              "      <th>02-03</th>\n",
              "      <th>03-04</th>\n",
              "      <th>04-05</th>\n",
              "      <th>05-06</th>\n",
              "      <th>06-07</th>\n",
              "      <th>07-08</th>\n",
              "      <th>08-09</th>\n",
              "      <th>09-10</th>\n",
              "      <th>10-11</th>\n",
              "      <th>11-12</th>\n",
              "      <th>12-13</th>\n",
              "      <th>13-14</th>\n",
              "      <th>14-15</th>\n",
              "      <th>15-16</th>\n",
              "      <th>16-17</th>\n",
              "      <th>17-18</th>\n",
              "    </tr>\n",
              "  </thead>\n",
              "  <tbody>\n",
              "    <tr>\n",
              "      <th>Home Team Wins</th>\n",
              "      <td>49.210526</td>\n",
              "      <td>43.947368</td>\n",
              "      <td>45.526316</td>\n",
              "      <td>50.526316</td>\n",
              "      <td>47.894737</td>\n",
              "      <td>46.315789</td>\n",
              "      <td>45.526316</td>\n",
              "      <td>50.789474</td>\n",
              "      <td>47.105263</td>\n",
              "      <td>45.000000</td>\n",
              "      <td>43.684211</td>\n",
              "      <td>47.105263</td>\n",
              "      <td>45.263158</td>\n",
              "      <td>41.315789</td>\n",
              "      <td>49.210526</td>\n",
              "      <td>45.526316</td>\n",
              "    </tr>\n",
              "    <tr>\n",
              "      <th>Away Team Wins</th>\n",
              "      <td>27.105263</td>\n",
              "      <td>27.631579</td>\n",
              "      <td>25.526316</td>\n",
              "      <td>29.210526</td>\n",
              "      <td>26.315789</td>\n",
              "      <td>27.368421</td>\n",
              "      <td>28.947368</td>\n",
              "      <td>23.947368</td>\n",
              "      <td>23.684211</td>\n",
              "      <td>30.526316</td>\n",
              "      <td>27.894737</td>\n",
              "      <td>32.368421</td>\n",
              "      <td>30.263158</td>\n",
              "      <td>30.526316</td>\n",
              "      <td>28.684211</td>\n",
              "      <td>28.421053</td>\n",
              "    </tr>\n",
              "    <tr>\n",
              "      <th>Draw</th>\n",
              "      <td>23.684211</td>\n",
              "      <td>28.421053</td>\n",
              "      <td>28.947368</td>\n",
              "      <td>20.263158</td>\n",
              "      <td>25.789474</td>\n",
              "      <td>26.315789</td>\n",
              "      <td>25.526316</td>\n",
              "      <td>25.263158</td>\n",
              "      <td>29.210526</td>\n",
              "      <td>24.473684</td>\n",
              "      <td>28.421053</td>\n",
              "      <td>20.526316</td>\n",
              "      <td>24.473684</td>\n",
              "      <td>28.157895</td>\n",
              "      <td>22.105263</td>\n",
              "      <td>26.052632</td>\n",
              "    </tr>\n",
              "  </tbody>\n",
              "</table>\n",
              "</div>"
            ],
            "text/plain": [
              "                    02-03      03-04  ...      16-17      17-18\n",
              "Home Team Wins  49.210526  43.947368  ...  49.210526  45.526316\n",
              "Away Team Wins  27.105263  27.631579  ...  28.684211  28.421053\n",
              "Draw            23.684211  28.421053  ...  22.105263  26.052632\n",
              "\n",
              "[3 rows x 16 columns]"
            ]
          },
          "metadata": {
            "tags": []
          },
          "execution_count": 428
        }
      ]
    },
    {
      "cell_type": "code",
      "metadata": {
        "id": "7Xok_1wJsUg3",
        "colab_type": "code",
        "outputId": "826bfe9c-6674-4867-9e74-f804453d47bc",
        "colab": {
          "base_uri": "https://localhost:8080/",
          "height": 809
        }
      },
      "source": [
        "# Plotting line plot of the win percentages for all the different seasons in dataframe\n",
        "ax = slicing_season.T.plot(figsize = [16,8], marker = 'o', linewidth = 3)\n",
        "ax.margins(y=.75)\n",
        "ax.set_title('Win Percentage for Home Team Wins, Away Team Wins and Draws (2002-2018)', size=18)\n",
        "ax.set_xlabel('Season', size =12)\n",
        "ax.set_ylabel('Win Perentage', size =15)\n",
        "# Set season labels\n",
        "plt.xticks( np.arange(16), ('2002-2003', '2003-2004', '2004-2005', '2005-2006', '2006-2007', '2007-2008', '2008-2009', '2009-2010',\n",
        "                            '2010-2011', '2011-2012', '2012-2013', '2013-2014', '2014-2015', '2015-2016', '2016-2017', '2017-2018') )"
      ],
      "execution_count": 0,
      "outputs": [
        {
          "output_type": "execute_result",
          "data": {
            "text/plain": [
              "([<matplotlib.axis.XTick at 0x7f35e9e97f98>,\n",
              "  <matplotlib.axis.XTick at 0x7f35e9f95278>,\n",
              "  <matplotlib.axis.XTick at 0x7f35eb50f5f8>,\n",
              "  <matplotlib.axis.XTick at 0x7f35ea6fd4e0>,\n",
              "  <matplotlib.axis.XTick at 0x7f35ea6fde80>,\n",
              "  <matplotlib.axis.XTick at 0x7f35eaa34dd8>,\n",
              "  <matplotlib.axis.XTick at 0x7f35ea6fd828>,\n",
              "  <matplotlib.axis.XTick at 0x7f35ea26dd68>,\n",
              "  <matplotlib.axis.XTick at 0x7f35ea11a518>,\n",
              "  <matplotlib.axis.XTick at 0x7f35ead1dcf8>,\n",
              "  <matplotlib.axis.XTick at 0x7f35ea4da828>,\n",
              "  <matplotlib.axis.XTick at 0x7f35ea4daac8>,\n",
              "  <matplotlib.axis.XTick at 0x7f35ea4da470>,\n",
              "  <matplotlib.axis.XTick at 0x7f35eac179b0>,\n",
              "  <matplotlib.axis.XTick at 0x7f35ea64c6d8>,\n",
              "  <matplotlib.axis.XTick at 0x7f35ea509390>],\n",
              " <a list of 16 Text xticklabel objects>)"
            ]
          },
          "metadata": {
            "tags": []
          },
          "execution_count": 429
        },
        {
          "output_type": "display_data",
          "data": {
            "image/png": "[encoded data removed]",
            "text/plain": [
              "<Figure size 1152x576 with 1 Axes>"
            ]
          },
          "metadata": {
            "tags": []
          }
        }
      ]
    },
    {
      "cell_type": "code",
      "metadata": {
        "id": "xJADjYv3FmQV",
        "colab_type": "code",
        "outputId": "b1996397-ad53-46a0-d5f5-065025f2430e",
        "colab": {
          "base_uri": "https://localhost:8080/",
          "height": 502
        }
      },
      "source": [
        "# Calculating the average win percentage for the pie chart\n",
        "result_average_season = pd.DataFrame((slicing_season['02-03'] + slicing_season['03-04'] + slicing_season['04-05'] +\n",
        "                                slicing_season['05-06'] + slicing_season['06-07'] + slicing_season['07-08'] +\n",
        "                                slicing_season['08-09'] + slicing_season['09-10'] + slicing_season['10-11'] + \n",
        "                                slicing_season['11-12'] + slicing_season['12-13'] + slicing_season['13-14'] + \n",
        "                                slicing_season['14-15'] + slicing_season['15-16'] + slicing_season['16-17'] + slicing_season['17-18']) / 16, \n",
        "                                columns = ['Win Percentage'])\n",
        "\n",
        "# Plotting average win percentage\n",
        "ax = result_average_season.plot(kind='pie', figsize =[6,6],autopct='%.2f', y='Win Percentage', fontsize =20, labels = None,\n",
        "                          legend = True, colors = ['skyblue','yellow', 'lightgreen'])\n",
        "ax.set_title('Win Percentage (2002-2018)', size=18)\n",
        "result_average_season"
      ],
      "execution_count": 0,
      "outputs": [
        {
          "output_type": "execute_result",
          "data": {
            "text/html": [
              "<div>\n",
              "<style scoped>\n",
              "    .dataframe tbody tr th:only-of-type {\n",
              "        vertical-align: middle;\n",
              "    }\n",
              "\n",
              "    .dataframe tbody tr th {\n",
              "        vertical-align: top;\n",
              "    }\n",
              "\n",
              "    .dataframe thead th {\n",
              "        text-align: right;\n",
              "    }\n",
              "</style>\n",
              "<table border=\"1\" class=\"dataframe\">\n",
              "  <thead>\n",
              "    <tr style=\"text-align: right;\">\n",
              "      <th></th>\n",
              "      <th>Win Percentage</th>\n",
              "    </tr>\n",
              "  </thead>\n",
              "  <tbody>\n",
              "    <tr>\n",
              "      <th>Home Team Wins</th>\n",
              "      <td>46.496711</td>\n",
              "    </tr>\n",
              "    <tr>\n",
              "      <th>Away Team Wins</th>\n",
              "      <td>28.026316</td>\n",
              "    </tr>\n",
              "    <tr>\n",
              "      <th>Draw</th>\n",
              "      <td>25.476974</td>\n",
              "    </tr>\n",
              "  </tbody>\n",
              "</table>\n",
              "</div>"
            ],
            "text/plain": [
              "                Win Percentage\n",
              "Home Team Wins       46.496711\n",
              "Away Team Wins       28.026316\n",
              "Draw                 25.476974"
            ]
          },
          "metadata": {
            "tags": []
          },
          "execution_count": 430
        },
        {
          "output_type": "display_data",
          "data": {
            "image/png": "[encoded data removed]",
            "text/plain": [
              "<Figure size 432x432 with 1 Axes>"
            ]
          },
          "metadata": {
            "tags": []
          }
        }
      ]
    },
    {
      "cell_type": "markdown",
      "metadata": {
        "id": "YRGNOlJy_Hpj",
        "colab_type": "text"
      },
      "source": [
        "## **Late Season**"
      ]
    },
    {
      "cell_type": "code",
      "metadata": {
        "id": "EpH1nPmk_J9K",
        "colab_type": "code",
        "outputId": "53d2ea59-aa05-426e-d854-5599b3a92635",
        "colab": {
          "base_uri": "https://localhost:8080/",
          "height": 309
        }
      },
      "source": [
        "# Setting months\n",
        "cleaned_df['Month'] = pd.DatetimeIndex(cleaned_df['Date']).month.astype(int)\n",
        "\n",
        "# Ending season if month is 5 or 6 (April - May)\n",
        "cleaned_df['EndingSeason'] = np.where(((cleaned_df['Month']== 5) | (cleaned_df['Month']== 4 )), 'Yes', 'No')\n",
        "\n",
        "# Checking if EndingSeason is set to 'Yes' correctly\n",
        "cleaned_df.loc[cleaned_df['Month'] == 4].head(5)"
      ],
      "execution_count": 0,
      "outputs": [
        {
          "output_type": "execute_result",
          "data": {
            "text/html": [
              "<div>\n",
              "<style scoped>\n",
              "    .dataframe tbody tr th:only-of-type {\n",
              "        vertical-align: middle;\n",
              "    }\n",
              "\n",
              "    .dataframe tbody tr th {\n",
              "        vertical-align: top;\n",
              "    }\n",
              "\n",
              "    .dataframe thead th {\n",
              "        text-align: right;\n",
              "    }\n",
              "</style>\n",
              "<table border=\"1\" class=\"dataframe\">\n",
              "  <thead>\n",
              "    <tr style=\"text-align: right;\">\n",
              "      <th></th>\n",
              "      <th>Date</th>\n",
              "      <th>HomeTeam</th>\n",
              "      <th>AwayTeam</th>\n",
              "      <th>FTHG</th>\n",
              "      <th>FTAG</th>\n",
              "      <th>FTR</th>\n",
              "      <th>Referee</th>\n",
              "      <th>HF</th>\n",
              "      <th>AF</th>\n",
              "      <th>HY</th>\n",
              "      <th>AY</th>\n",
              "      <th>HR</th>\n",
              "      <th>AR</th>\n",
              "      <th>Season</th>\n",
              "      <th>GoalsDifference</th>\n",
              "      <th>FoulDifference</th>\n",
              "      <th>YellowDifference</th>\n",
              "      <th>RedDifference</th>\n",
              "      <th>RefereeBias</th>\n",
              "      <th>sum</th>\n",
              "      <th>size</th>\n",
              "      <th>RefereeReputation</th>\n",
              "      <th>Month</th>\n",
              "      <th>EndingSeason</th>\n",
              "    </tr>\n",
              "  </thead>\n",
              "  <tbody>\n",
              "    <tr>\n",
              "      <th>310</th>\n",
              "      <td>2003-04-05</td>\n",
              "      <td>Aston Villa</td>\n",
              "      <td>Arsenal</td>\n",
              "      <td>1</td>\n",
              "      <td>1</td>\n",
              "      <td>D</td>\n",
              "      <td>U Rennie</td>\n",
              "      <td>19</td>\n",
              "      <td>12</td>\n",
              "      <td>1</td>\n",
              "      <td>2</td>\n",
              "      <td>0</td>\n",
              "      <td>0</td>\n",
              "      <td>02-03</td>\n",
              "      <td>0</td>\n",
              "      <td>-7</td>\n",
              "      <td>1</td>\n",
              "      <td>0</td>\n",
              "      <td>1</td>\n",
              "      <td>15</td>\n",
              "      <td>100</td>\n",
              "      <td>0.150000</td>\n",
              "      <td>4</td>\n",
              "      <td>Yes</td>\n",
              "    </tr>\n",
              "    <tr>\n",
              "      <th>311</th>\n",
              "      <td>2003-04-05</td>\n",
              "      <td>Bolton</td>\n",
              "      <td>Man City</td>\n",
              "      <td>2</td>\n",
              "      <td>0</td>\n",
              "      <td>H</td>\n",
              "      <td>C Wilkes</td>\n",
              "      <td>6</td>\n",
              "      <td>10</td>\n",
              "      <td>0</td>\n",
              "      <td>5</td>\n",
              "      <td>0</td>\n",
              "      <td>0</td>\n",
              "      <td>02-03</td>\n",
              "      <td>2</td>\n",
              "      <td>4</td>\n",
              "      <td>5</td>\n",
              "      <td>0</td>\n",
              "      <td>5</td>\n",
              "      <td>8</td>\n",
              "      <td>8</td>\n",
              "      <td>1.000000</td>\n",
              "      <td>4</td>\n",
              "      <td>Yes</td>\n",
              "    </tr>\n",
              "    <tr>\n",
              "      <th>312</th>\n",
              "      <td>2003-04-05</td>\n",
              "      <td>Charlton</td>\n",
              "      <td>Leeds</td>\n",
              "      <td>1</td>\n",
              "      <td>6</td>\n",
              "      <td>A</td>\n",
              "      <td>E Wolstenholme</td>\n",
              "      <td>14</td>\n",
              "      <td>17</td>\n",
              "      <td>2</td>\n",
              "      <td>1</td>\n",
              "      <td>0</td>\n",
              "      <td>0</td>\n",
              "      <td>02-03</td>\n",
              "      <td>-5</td>\n",
              "      <td>3</td>\n",
              "      <td>-1</td>\n",
              "      <td>0</td>\n",
              "      <td>-1</td>\n",
              "      <td>3</td>\n",
              "      <td>9</td>\n",
              "      <td>0.333333</td>\n",
              "      <td>4</td>\n",
              "      <td>Yes</td>\n",
              "    </tr>\n",
              "    <tr>\n",
              "      <th>313</th>\n",
              "      <td>2003-04-05</td>\n",
              "      <td>Man United</td>\n",
              "      <td>Liverpool</td>\n",
              "      <td>4</td>\n",
              "      <td>0</td>\n",
              "      <td>H</td>\n",
              "      <td>M Riley</td>\n",
              "      <td>15</td>\n",
              "      <td>17</td>\n",
              "      <td>1</td>\n",
              "      <td>3</td>\n",
              "      <td>0</td>\n",
              "      <td>1</td>\n",
              "      <td>02-03</td>\n",
              "      <td>4</td>\n",
              "      <td>2</td>\n",
              "      <td>2</td>\n",
              "      <td>1</td>\n",
              "      <td>4</td>\n",
              "      <td>77</td>\n",
              "      <td>169</td>\n",
              "      <td>0.455621</td>\n",
              "      <td>4</td>\n",
              "      <td>Yes</td>\n",
              "    </tr>\n",
              "    <tr>\n",
              "      <th>314</th>\n",
              "      <td>2003-04-05</td>\n",
              "      <td>Middlesboro</td>\n",
              "      <td>West Brom</td>\n",
              "      <td>3</td>\n",
              "      <td>0</td>\n",
              "      <td>H</td>\n",
              "      <td>M Halsey</td>\n",
              "      <td>9</td>\n",
              "      <td>15</td>\n",
              "      <td>0</td>\n",
              "      <td>1</td>\n",
              "      <td>0</td>\n",
              "      <td>0</td>\n",
              "      <td>02-03</td>\n",
              "      <td>3</td>\n",
              "      <td>6</td>\n",
              "      <td>1</td>\n",
              "      <td>0</td>\n",
              "      <td>1</td>\n",
              "      <td>106</td>\n",
              "      <td>228</td>\n",
              "      <td>0.464912</td>\n",
              "      <td>4</td>\n",
              "      <td>Yes</td>\n",
              "    </tr>\n",
              "  </tbody>\n",
              "</table>\n",
              "</div>"
            ],
            "text/plain": [
              "          Date     HomeTeam   AwayTeam  ...  RefereeReputation  Month EndingSeason\n",
              "310 2003-04-05  Aston Villa    Arsenal  ...           0.150000      4          Yes\n",
              "311 2003-04-05       Bolton   Man City  ...           1.000000      4          Yes\n",
              "312 2003-04-05     Charlton      Leeds  ...           0.333333      4          Yes\n",
              "313 2003-04-05   Man United  Liverpool  ...           0.455621      4          Yes\n",
              "314 2003-04-05  Middlesboro  West Brom  ...           0.464912      4          Yes\n",
              "\n",
              "[5 rows x 24 columns]"
            ]
          },
          "metadata": {
            "tags": []
          },
          "execution_count": 431
        }
      ]
    },
    {
      "cell_type": "code",
      "metadata": {
        "id": "7LvJs126EE2a",
        "colab_type": "code",
        "outputId": "bb8b0331-0098-4b47-9e3f-f63d178ee803",
        "colab": {
          "base_uri": "https://localhost:8080/",
          "height": 165
        }
      },
      "source": [
        "# New dataframe with early season (August - March)\n",
        "early_season = cleaned_df[cleaned_df['EndingSeason'] == 'No']\n",
        "early_season.head(2)"
      ],
      "execution_count": 0,
      "outputs": [
        {
          "output_type": "execute_result",
          "data": {
            "text/html": [
              "<div>\n",
              "<style scoped>\n",
              "    .dataframe tbody tr th:only-of-type {\n",
              "        vertical-align: middle;\n",
              "    }\n",
              "\n",
              "    .dataframe tbody tr th {\n",
              "        vertical-align: top;\n",
              "    }\n",
              "\n",
              "    .dataframe thead th {\n",
              "        text-align: right;\n",
              "    }\n",
              "</style>\n",
              "<table border=\"1\" class=\"dataframe\">\n",
              "  <thead>\n",
              "    <tr style=\"text-align: right;\">\n",
              "      <th></th>\n",
              "      <th>Date</th>\n",
              "      <th>HomeTeam</th>\n",
              "      <th>AwayTeam</th>\n",
              "      <th>FTHG</th>\n",
              "      <th>FTAG</th>\n",
              "      <th>FTR</th>\n",
              "      <th>Referee</th>\n",
              "      <th>HF</th>\n",
              "      <th>AF</th>\n",
              "      <th>HY</th>\n",
              "      <th>AY</th>\n",
              "      <th>HR</th>\n",
              "      <th>AR</th>\n",
              "      <th>Season</th>\n",
              "      <th>GoalsDifference</th>\n",
              "      <th>FoulDifference</th>\n",
              "      <th>YellowDifference</th>\n",
              "      <th>RedDifference</th>\n",
              "      <th>RefereeBias</th>\n",
              "      <th>sum</th>\n",
              "      <th>size</th>\n",
              "      <th>RefereeReputation</th>\n",
              "      <th>Month</th>\n",
              "      <th>EndingSeason</th>\n",
              "    </tr>\n",
              "  </thead>\n",
              "  <tbody>\n",
              "    <tr>\n",
              "      <th>0</th>\n",
              "      <td>2002-08-17</td>\n",
              "      <td>Blackburn</td>\n",
              "      <td>Sunderland</td>\n",
              "      <td>0</td>\n",
              "      <td>0</td>\n",
              "      <td>D</td>\n",
              "      <td>D Elleray</td>\n",
              "      <td>14</td>\n",
              "      <td>11</td>\n",
              "      <td>1</td>\n",
              "      <td>2</td>\n",
              "      <td>0</td>\n",
              "      <td>0</td>\n",
              "      <td>02-03</td>\n",
              "      <td>0</td>\n",
              "      <td>-3</td>\n",
              "      <td>1</td>\n",
              "      <td>0</td>\n",
              "      <td>1</td>\n",
              "      <td>14</td>\n",
              "      <td>17</td>\n",
              "      <td>0.823529</td>\n",
              "      <td>8</td>\n",
              "      <td>No</td>\n",
              "    </tr>\n",
              "    <tr>\n",
              "      <th>1</th>\n",
              "      <td>2002-08-17</td>\n",
              "      <td>Charlton</td>\n",
              "      <td>Chelsea</td>\n",
              "      <td>2</td>\n",
              "      <td>3</td>\n",
              "      <td>A</td>\n",
              "      <td>G Barber</td>\n",
              "      <td>10</td>\n",
              "      <td>12</td>\n",
              "      <td>0</td>\n",
              "      <td>3</td>\n",
              "      <td>1</td>\n",
              "      <td>0</td>\n",
              "      <td>02-03</td>\n",
              "      <td>-1</td>\n",
              "      <td>2</td>\n",
              "      <td>3</td>\n",
              "      <td>-1</td>\n",
              "      <td>1</td>\n",
              "      <td>18</td>\n",
              "      <td>40</td>\n",
              "      <td>0.450000</td>\n",
              "      <td>8</td>\n",
              "      <td>No</td>\n",
              "    </tr>\n",
              "  </tbody>\n",
              "</table>\n",
              "</div>"
            ],
            "text/plain": [
              "        Date   HomeTeam    AwayTeam  ...  RefereeReputation  Month EndingSeason\n",
              "0 2002-08-17  Blackburn  Sunderland  ...           0.823529      8           No\n",
              "1 2002-08-17   Charlton     Chelsea  ...           0.450000      8           No\n",
              "\n",
              "[2 rows x 24 columns]"
            ]
          },
          "metadata": {
            "tags": []
          },
          "execution_count": 432
        }
      ]
    },
    {
      "cell_type": "code",
      "metadata": {
        "id": "N7pQC_GxD1-X",
        "colab_type": "code",
        "outputId": "ae967ecd-764c-4edf-f676-ea0677931fdb",
        "colab": {
          "base_uri": "https://localhost:8080/",
          "height": 165
        }
      },
      "source": [
        "# New dataframe with late season \n",
        "late_season = cleaned_df[cleaned_df['EndingSeason'] == 'Yes']\n",
        "late_season_2015 = late_season[late_season['Season'] == '15-16']\n",
        "late_season_2015.head(2)"
      ],
      "execution_count": 0,
      "outputs": [
        {
          "output_type": "execute_result",
          "data": {
            "text/html": [
              "<div>\n",
              "<style scoped>\n",
              "    .dataframe tbody tr th:only-of-type {\n",
              "        vertical-align: middle;\n",
              "    }\n",
              "\n",
              "    .dataframe tbody tr th {\n",
              "        vertical-align: top;\n",
              "    }\n",
              "\n",
              "    .dataframe thead th {\n",
              "        text-align: right;\n",
              "    }\n",
              "</style>\n",
              "<table border=\"1\" class=\"dataframe\">\n",
              "  <thead>\n",
              "    <tr style=\"text-align: right;\">\n",
              "      <th></th>\n",
              "      <th>Date</th>\n",
              "      <th>HomeTeam</th>\n",
              "      <th>AwayTeam</th>\n",
              "      <th>FTHG</th>\n",
              "      <th>FTAG</th>\n",
              "      <th>FTR</th>\n",
              "      <th>Referee</th>\n",
              "      <th>HF</th>\n",
              "      <th>AF</th>\n",
              "      <th>HY</th>\n",
              "      <th>AY</th>\n",
              "      <th>HR</th>\n",
              "      <th>AR</th>\n",
              "      <th>Season</th>\n",
              "      <th>GoalsDifference</th>\n",
              "      <th>FoulDifference</th>\n",
              "      <th>YellowDifference</th>\n",
              "      <th>RedDifference</th>\n",
              "      <th>RefereeBias</th>\n",
              "      <th>sum</th>\n",
              "      <th>size</th>\n",
              "      <th>RefereeReputation</th>\n",
              "      <th>Month</th>\n",
              "      <th>EndingSeason</th>\n",
              "    </tr>\n",
              "  </thead>\n",
              "  <tbody>\n",
              "    <tr>\n",
              "      <th>5243</th>\n",
              "      <td>2016-04-02</td>\n",
              "      <td>Arsenal</td>\n",
              "      <td>Watford</td>\n",
              "      <td>4</td>\n",
              "      <td>0</td>\n",
              "      <td>H</td>\n",
              "      <td>A Taylor</td>\n",
              "      <td>7</td>\n",
              "      <td>10</td>\n",
              "      <td>1</td>\n",
              "      <td>1</td>\n",
              "      <td>0</td>\n",
              "      <td>0</td>\n",
              "      <td>15-16</td>\n",
              "      <td>4</td>\n",
              "      <td>3</td>\n",
              "      <td>0</td>\n",
              "      <td>0</td>\n",
              "      <td>0</td>\n",
              "      <td>23</td>\n",
              "      <td>194</td>\n",
              "      <td>0.118557</td>\n",
              "      <td>4</td>\n",
              "      <td>Yes</td>\n",
              "    </tr>\n",
              "    <tr>\n",
              "      <th>5244</th>\n",
              "      <td>2016-04-02</td>\n",
              "      <td>Aston Villa</td>\n",
              "      <td>Chelsea</td>\n",
              "      <td>0</td>\n",
              "      <td>4</td>\n",
              "      <td>A</td>\n",
              "      <td>N Swarbrick</td>\n",
              "      <td>12</td>\n",
              "      <td>8</td>\n",
              "      <td>4</td>\n",
              "      <td>1</td>\n",
              "      <td>1</td>\n",
              "      <td>0</td>\n",
              "      <td>15-16</td>\n",
              "      <td>-4</td>\n",
              "      <td>-4</td>\n",
              "      <td>-3</td>\n",
              "      <td>-1</td>\n",
              "      <td>-5</td>\n",
              "      <td>-6</td>\n",
              "      <td>132</td>\n",
              "      <td>-0.045455</td>\n",
              "      <td>4</td>\n",
              "      <td>Yes</td>\n",
              "    </tr>\n",
              "  </tbody>\n",
              "</table>\n",
              "</div>"
            ],
            "text/plain": [
              "           Date     HomeTeam AwayTeam  ...  RefereeReputation  Month EndingSeason\n",
              "5243 2016-04-02      Arsenal  Watford  ...           0.118557      4          Yes\n",
              "5244 2016-04-02  Aston Villa  Chelsea  ...          -0.045455      4          Yes\n",
              "\n",
              "[2 rows x 24 columns]"
            ]
          },
          "metadata": {
            "tags": []
          },
          "execution_count": 433
        }
      ]
    },
    {
      "cell_type": "code",
      "metadata": {
        "id": "UNChfHs3XSAy",
        "colab_type": "code",
        "outputId": "097a714c-138e-4ebd-c901-54c4aacd9349",
        "colab": {
          "base_uri": "https://localhost:8080/",
          "height": 111
        }
      },
      "source": [
        "# Calculate the win rate of each team\n",
        "winrate_late = late_season_2015.copy()\n",
        "winrate_aggregate_late = winrate_late.groupby(['HomeTeam', 'FTR']).size().reset_index(name=\"Number of teams\")\n",
        "result_winrate_late = pd.pivot_table(winrate_aggregate_late, index=['HomeTeam'], columns=['FTR'],\n",
        "                                        values='Number of teams', aggfunc=np.sum)\n",
        "result_winrate_late = result_winrate_late.reset_index()\n",
        "result_winrate_late.fillna(0, inplace=True)\n",
        "result_winrate_late['HomeWinRate'] = result_winrate_late['H'] / (result_winrate_late['H'] + result_winrate_late['A'] + result_winrate_late['D'])\n",
        "result_winrate_late = result_winrate_late.sort_values(['HomeWinRate'], ascending = False)\n",
        "result_winrate_late.head(2)"
      ],
      "execution_count": 0,
      "outputs": [
        {
          "output_type": "execute_result",
          "data": {
            "text/html": [
              "<div>\n",
              "<style scoped>\n",
              "    .dataframe tbody tr th:only-of-type {\n",
              "        vertical-align: middle;\n",
              "    }\n",
              "\n",
              "    .dataframe tbody tr th {\n",
              "        vertical-align: top;\n",
              "    }\n",
              "\n",
              "    .dataframe thead th {\n",
              "        text-align: right;\n",
              "    }\n",
              "</style>\n",
              "<table border=\"1\" class=\"dataframe\">\n",
              "  <thead>\n",
              "    <tr style=\"text-align: right;\">\n",
              "      <th>FTR</th>\n",
              "      <th>HomeTeam</th>\n",
              "      <th>A</th>\n",
              "      <th>D</th>\n",
              "      <th>H</th>\n",
              "      <th>HomeWinRate</th>\n",
              "    </tr>\n",
              "  </thead>\n",
              "  <tbody>\n",
              "    <tr>\n",
              "      <th>12</th>\n",
              "      <td>Southampton</td>\n",
              "      <td>0.0</td>\n",
              "      <td>0.0</td>\n",
              "      <td>3.0</td>\n",
              "      <td>1.0</td>\n",
              "    </tr>\n",
              "    <tr>\n",
              "      <th>0</th>\n",
              "      <td>Arsenal</td>\n",
              "      <td>0.0</td>\n",
              "      <td>1.0</td>\n",
              "      <td>4.0</td>\n",
              "      <td>0.8</td>\n",
              "    </tr>\n",
              "  </tbody>\n",
              "</table>\n",
              "</div>"
            ],
            "text/plain": [
              "FTR     HomeTeam    A    D    H  HomeWinRate\n",
              "12   Southampton  0.0  0.0  3.0          1.0\n",
              "0        Arsenal  0.0  1.0  4.0          0.8"
            ]
          },
          "metadata": {
            "tags": []
          },
          "execution_count": 434
        }
      ]
    },
    {
      "cell_type": "code",
      "metadata": {
        "id": "GDwQpqxphwNF",
        "colab_type": "code",
        "colab": {}
      },
      "source": [
        "result_winrate_late.drop(['A', 'D', 'H'], inplace=True, axis=1)"
      ],
      "execution_count": 0,
      "outputs": []
    },
    {
      "cell_type": "code",
      "metadata": {
        "id": "n7ZFQNp6u2vi",
        "colab_type": "code",
        "outputId": "cce41f0f-96a2-4dab-c9d3-ebffe39f0fbc",
        "colab": {
          "base_uri": "https://localhost:8080/",
          "height": 165
        }
      },
      "source": [
        "# New dataframe with early season \n",
        "early_season = cleaned_df[cleaned_df['EndingSeason'] == 'No']\n",
        "early_season_2015 = early_season[early_season['Season'] == '15-16']\n",
        "early_season_2015.head(2)"
      ],
      "execution_count": 0,
      "outputs": [
        {
          "output_type": "execute_result",
          "data": {
            "text/html": [
              "<div>\n",
              "<style scoped>\n",
              "    .dataframe tbody tr th:only-of-type {\n",
              "        vertical-align: middle;\n",
              "    }\n",
              "\n",
              "    .dataframe tbody tr th {\n",
              "        vertical-align: top;\n",
              "    }\n",
              "\n",
              "    .dataframe thead th {\n",
              "        text-align: right;\n",
              "    }\n",
              "</style>\n",
              "<table border=\"1\" class=\"dataframe\">\n",
              "  <thead>\n",
              "    <tr style=\"text-align: right;\">\n",
              "      <th></th>\n",
              "      <th>Date</th>\n",
              "      <th>HomeTeam</th>\n",
              "      <th>AwayTeam</th>\n",
              "      <th>FTHG</th>\n",
              "      <th>FTAG</th>\n",
              "      <th>FTR</th>\n",
              "      <th>Referee</th>\n",
              "      <th>HF</th>\n",
              "      <th>AF</th>\n",
              "      <th>HY</th>\n",
              "      <th>AY</th>\n",
              "      <th>HR</th>\n",
              "      <th>AR</th>\n",
              "      <th>Season</th>\n",
              "      <th>GoalsDifference</th>\n",
              "      <th>FoulDifference</th>\n",
              "      <th>YellowDifference</th>\n",
              "      <th>RedDifference</th>\n",
              "      <th>RefereeBias</th>\n",
              "      <th>sum</th>\n",
              "      <th>size</th>\n",
              "      <th>RefereeReputation</th>\n",
              "      <th>Month</th>\n",
              "      <th>EndingSeason</th>\n",
              "    </tr>\n",
              "  </thead>\n",
              "  <tbody>\n",
              "    <tr>\n",
              "      <th>4940</th>\n",
              "      <td>2015-08-08</td>\n",
              "      <td>Bournemouth</td>\n",
              "      <td>Aston Villa</td>\n",
              "      <td>0</td>\n",
              "      <td>1</td>\n",
              "      <td>A</td>\n",
              "      <td>M Clattenburg</td>\n",
              "      <td>13</td>\n",
              "      <td>13</td>\n",
              "      <td>3</td>\n",
              "      <td>4</td>\n",
              "      <td>0</td>\n",
              "      <td>0</td>\n",
              "      <td>15-16</td>\n",
              "      <td>-1</td>\n",
              "      <td>0</td>\n",
              "      <td>1</td>\n",
              "      <td>0</td>\n",
              "      <td>1</td>\n",
              "      <td>57</td>\n",
              "      <td>293</td>\n",
              "      <td>0.194539</td>\n",
              "      <td>8</td>\n",
              "      <td>No</td>\n",
              "    </tr>\n",
              "    <tr>\n",
              "      <th>4941</th>\n",
              "      <td>2015-08-08</td>\n",
              "      <td>Chelsea</td>\n",
              "      <td>Swansea</td>\n",
              "      <td>2</td>\n",
              "      <td>2</td>\n",
              "      <td>D</td>\n",
              "      <td>M Oliver</td>\n",
              "      <td>15</td>\n",
              "      <td>16</td>\n",
              "      <td>1</td>\n",
              "      <td>3</td>\n",
              "      <td>1</td>\n",
              "      <td>0</td>\n",
              "      <td>15-16</td>\n",
              "      <td>0</td>\n",
              "      <td>1</td>\n",
              "      <td>2</td>\n",
              "      <td>-1</td>\n",
              "      <td>0</td>\n",
              "      <td>47</td>\n",
              "      <td>204</td>\n",
              "      <td>0.230392</td>\n",
              "      <td>8</td>\n",
              "      <td>No</td>\n",
              "    </tr>\n",
              "  </tbody>\n",
              "</table>\n",
              "</div>"
            ],
            "text/plain": [
              "           Date     HomeTeam  ... Month  EndingSeason\n",
              "4940 2015-08-08  Bournemouth  ...     8            No\n",
              "4941 2015-08-08      Chelsea  ...     8            No\n",
              "\n",
              "[2 rows x 24 columns]"
            ]
          },
          "metadata": {
            "tags": []
          },
          "execution_count": 436
        }
      ]
    },
    {
      "cell_type": "code",
      "metadata": {
        "id": "_b8XaH2jvcV7",
        "colab_type": "code",
        "outputId": "bb6ab267-4799-4b01-bd93-653587346f32",
        "colab": {
          "base_uri": "https://localhost:8080/",
          "height": 111
        }
      },
      "source": [
        "# Calculate the win rate of each team\n",
        "winrate_early = early_season_2015.copy()\n",
        "winrate_aggregate_early = winrate_early.groupby(['HomeTeam', 'FTR']).size().reset_index(name=\"Number of teams\")\n",
        "result_winrate_early = pd.pivot_table(winrate_aggregate_early, index=['HomeTeam'], columns=['FTR'],\n",
        "                                        values='Number of teams', aggfunc=np.sum)\n",
        "result_winrate_early = result_winrate_early.reset_index()\n",
        "result_winrate_early.fillna(0, inplace=True)\n",
        "result_winrate_early['HomeWinRate'] = result_winrate_early['H'] / (result_winrate_early['H'] + result_winrate_early['A'] + result_winrate_early['D'])\n",
        "result_winrate_early = result_winrate_early.sort_values(['HomeWinRate'], ascending = False)\n",
        "result_winrate_early.head(2)"
      ],
      "execution_count": 0,
      "outputs": [
        {
          "output_type": "execute_result",
          "data": {
            "text/html": [
              "<div>\n",
              "<style scoped>\n",
              "    .dataframe tbody tr th:only-of-type {\n",
              "        vertical-align: middle;\n",
              "    }\n",
              "\n",
              "    .dataframe tbody tr th {\n",
              "        vertical-align: top;\n",
              "    }\n",
              "\n",
              "    .dataframe thead th {\n",
              "        text-align: right;\n",
              "    }\n",
              "</style>\n",
              "<table border=\"1\" class=\"dataframe\">\n",
              "  <thead>\n",
              "    <tr style=\"text-align: right;\">\n",
              "      <th>FTR</th>\n",
              "      <th>HomeTeam</th>\n",
              "      <th>A</th>\n",
              "      <th>D</th>\n",
              "      <th>H</th>\n",
              "      <th>HomeWinRate</th>\n",
              "    </tr>\n",
              "  </thead>\n",
              "  <tbody>\n",
              "    <tr>\n",
              "      <th>8</th>\n",
              "      <td>Man City</td>\n",
              "      <td>5</td>\n",
              "      <td>1</td>\n",
              "      <td>10</td>\n",
              "      <td>0.625</td>\n",
              "    </tr>\n",
              "    <tr>\n",
              "      <th>6</th>\n",
              "      <td>Leicester</td>\n",
              "      <td>1</td>\n",
              "      <td>5</td>\n",
              "      <td>9</td>\n",
              "      <td>0.600</td>\n",
              "    </tr>\n",
              "  </tbody>\n",
              "</table>\n",
              "</div>"
            ],
            "text/plain": [
              "FTR   HomeTeam  A  D   H  HomeWinRate\n",
              "8     Man City  5  1  10        0.625\n",
              "6    Leicester  1  5   9        0.600"
            ]
          },
          "metadata": {
            "tags": []
          },
          "execution_count": 437
        }
      ]
    },
    {
      "cell_type": "code",
      "metadata": {
        "id": "vCd9vKsNvnrv",
        "colab_type": "code",
        "colab": {}
      },
      "source": [
        "# Dropping columns\n",
        "result_winrate_early.drop(['A', 'D', 'H'], inplace=True, axis=1)"
      ],
      "execution_count": 0,
      "outputs": []
    },
    {
      "cell_type": "code",
      "metadata": {
        "colab_type": "code",
        "id": "VOK1JwLd8q91",
        "colab": {}
      },
      "source": [
        "result_winrate_early['HomeWinRateLate'] = result_winrate_late['HomeWinRate']\n",
        "result_winrate_early['HomeWinRateEarly'] = result_winrate_early['HomeWinRate']\n",
        "result_winrate_early.drop(['HomeWinRate'], inplace=True, axis=1)\n",
        "result = result_winrate_early"
      ],
      "execution_count": 0,
      "outputs": []
    },
    {
      "cell_type": "code",
      "metadata": {
        "id": "zDUHSStKxVSS",
        "colab_type": "code",
        "outputId": "e5ad13d8-846b-462f-9de4-4719ab30a037",
        "colab": {
          "base_uri": "https://localhost:8080/",
          "height": 572
        }
      },
      "source": [
        "# Plotting graph ending season vs rest of season\n",
        "ax = result.plot.bar(x='HomeTeam', y=[\"HomeWinRateLate\", \"HomeWinRateEarly\"], rot=0, label = (\"Home Win Rate (Ending Season)\", \"Home Win Rate (Aug - March)\"), figsize = [16,7.5])\n",
        "plt.xticks(rotation=90)\n",
        "plt.xlabel('Team', fontsize=16)\n",
        "plt.ylabel('Home Win Rate', fontsize=16)\n",
        "plt.title('Ending Season vs rest of Season - Home Win Rate (2015/2016)',fontsize=18)\n",
        "plt.legend()"
      ],
      "execution_count": 0,
      "outputs": [
        {
          "output_type": "execute_result",
          "data": {
            "text/plain": [
              "<matplotlib.legend.Legend at 0x7f35ea26e048>"
            ]
          },
          "metadata": {
            "tags": []
          },
          "execution_count": 440
        },
        {
          "output_type": "display_data",
          "data": {
            "image/png": "[encoded data removed]",
            "text/plain": [
              "<Figure size 1152x540 with 1 Axes>"
            ]
          },
          "metadata": {
            "tags": []
          }
        }
      ]
    },
    {
      "cell_type": "code",
      "metadata": {
        "id": "gmaAvo19BfTH",
        "colab_type": "code",
        "colab": {}
      },
      "source": [
        "arrest_df = pd.read_csv('https://raw.githubusercontent.com/harditsingh/DataWranglingVU/master/Project/arrests_final.csv')"
      ],
      "execution_count": 0,
      "outputs": []
    },
    {
      "cell_type": "code",
      "metadata": {
        "id": "etvK7VJaB0Wt",
        "colab_type": "code",
        "outputId": "cc1554ac-a1fa-4a26-902a-a11c5bdd662a",
        "colab": {
          "base_uri": "https://localhost:8080/",
          "height": 394
        }
      },
      "source": [
        "arrest_df_2015 = arrest_df[arrest_df['Season'] == '2015-16']\n",
        "arrest_df_2015.columns = arrest_df_2015.columns.str.strip().str.lower().str.replace(' ', '_').str.replace('(', '').str.replace(')', '')\n",
        "arrest_df_2015.sort_values(\"home\", axis = 0, ascending = False, inplace = True) \n",
        "arrest_df_2015.head(5)"
      ],
      "execution_count": 0,
      "outputs": [
        {
          "output_type": "stream",
          "text": [
            "/usr/local/lib/python3.6/dist-packages/ipykernel_launcher.py:3: SettingWithCopyWarning: \n",
            "A value is trying to be set on a copy of a slice from a DataFrame\n",
            "\n",
            "See the caveats in the documentation: http://pandas.pydata.org/pandas-docs/stable/user_guide/indexing.html#returning-a-view-versus-a-copy\n",
            "  This is separate from the ipykernel package so we can avoid doing imports until\n"
          ],
          "name": "stderr"
        },
        {
          "output_type": "execute_result",
          "data": {
            "text/html": [
              "<div>\n",
              "<style scoped>\n",
              "    .dataframe tbody tr th:only-of-type {\n",
              "        vertical-align: middle;\n",
              "    }\n",
              "\n",
              "    .dataframe tbody tr th {\n",
              "        vertical-align: top;\n",
              "    }\n",
              "\n",
              "    .dataframe thead th {\n",
              "        text-align: right;\n",
              "    }\n",
              "</style>\n",
              "<table border=\"1\" class=\"dataframe\">\n",
              "  <thead>\n",
              "    <tr style=\"text-align: right;\">\n",
              "      <th></th>\n",
              "      <th>season</th>\n",
              "      <th>club</th>\n",
              "      <th>total</th>\n",
              "      <th>home</th>\n",
              "      <th>away</th>\n",
              "      <th>neutral</th>\n",
              "      <th>violentdisorder</th>\n",
              "      <th>publicdisorder</th>\n",
              "      <th>throwingmissiles</th>\n",
              "      <th>chanting</th>\n",
              "      <th>pitchincursion</th>\n",
              "      <th>alcoholoffences</th>\n",
              "      <th>tickettouting</th>\n",
              "      <th>weaponpossession</th>\n",
              "      <th>pyrotechnicspossession</th>\n",
              "      <th>breachofbo</th>\n",
              "      <th>criminaldamage</th>\n",
              "    </tr>\n",
              "  </thead>\n",
              "  <tbody>\n",
              "    <tr>\n",
              "      <th>21</th>\n",
              "      <td>2015-16</td>\n",
              "      <td>Arsenal</td>\n",
              "      <td>42</td>\n",
              "      <td>22</td>\n",
              "      <td>19</td>\n",
              "      <td>1</td>\n",
              "      <td>7</td>\n",
              "      <td>14</td>\n",
              "      <td>8</td>\n",
              "      <td>0</td>\n",
              "      <td>1</td>\n",
              "      <td>5</td>\n",
              "      <td>1</td>\n",
              "      <td>0</td>\n",
              "      <td>2</td>\n",
              "      <td>0</td>\n",
              "      <td>4</td>\n",
              "    </tr>\n",
              "    <tr>\n",
              "      <th>34</th>\n",
              "      <td>2015-16</td>\n",
              "      <td>Sunderland</td>\n",
              "      <td>44</td>\n",
              "      <td>22</td>\n",
              "      <td>22</td>\n",
              "      <td>0</td>\n",
              "      <td>3</td>\n",
              "      <td>9</td>\n",
              "      <td>1</td>\n",
              "      <td>4</td>\n",
              "      <td>15</td>\n",
              "      <td>10</td>\n",
              "      <td>0</td>\n",
              "      <td>0</td>\n",
              "      <td>2</td>\n",
              "      <td>0</td>\n",
              "      <td>0</td>\n",
              "    </tr>\n",
              "    <tr>\n",
              "      <th>22</th>\n",
              "      <td>2015-16</td>\n",
              "      <td>Aston Villa</td>\n",
              "      <td>41</td>\n",
              "      <td>20</td>\n",
              "      <td>21</td>\n",
              "      <td>0</td>\n",
              "      <td>8</td>\n",
              "      <td>10</td>\n",
              "      <td>5</td>\n",
              "      <td>0</td>\n",
              "      <td>2</td>\n",
              "      <td>11</td>\n",
              "      <td>0</td>\n",
              "      <td>0</td>\n",
              "      <td>1</td>\n",
              "      <td>2</td>\n",
              "      <td>2</td>\n",
              "    </tr>\n",
              "    <tr>\n",
              "      <th>36</th>\n",
              "      <td>2015-16</td>\n",
              "      <td>Tottenham Hotspur</td>\n",
              "      <td>33</td>\n",
              "      <td>18</td>\n",
              "      <td>15</td>\n",
              "      <td>0</td>\n",
              "      <td>6</td>\n",
              "      <td>12</td>\n",
              "      <td>2</td>\n",
              "      <td>0</td>\n",
              "      <td>1</td>\n",
              "      <td>3</td>\n",
              "      <td>5</td>\n",
              "      <td>1</td>\n",
              "      <td>3</td>\n",
              "      <td>0</td>\n",
              "      <td>0</td>\n",
              "    </tr>\n",
              "    <tr>\n",
              "      <th>26</th>\n",
              "      <td>2015-16</td>\n",
              "      <td>Leicester City</td>\n",
              "      <td>32</td>\n",
              "      <td>17</td>\n",
              "      <td>15</td>\n",
              "      <td>0</td>\n",
              "      <td>6</td>\n",
              "      <td>10</td>\n",
              "      <td>0</td>\n",
              "      <td>1</td>\n",
              "      <td>8</td>\n",
              "      <td>1</td>\n",
              "      <td>0</td>\n",
              "      <td>0</td>\n",
              "      <td>3</td>\n",
              "      <td>1</td>\n",
              "      <td>2</td>\n",
              "    </tr>\n",
              "  </tbody>\n",
              "</table>\n",
              "</div>"
            ],
            "text/plain": [
              "     season               club  ...  breachofbo  criminaldamage\n",
              "21  2015-16            Arsenal  ...           0               4\n",
              "34  2015-16         Sunderland  ...           0               0\n",
              "22  2015-16        Aston Villa  ...           2               2\n",
              "36  2015-16  Tottenham Hotspur  ...           0               0\n",
              "26  2015-16     Leicester City  ...           1               2\n",
              "\n",
              "[5 rows x 17 columns]"
            ]
          },
          "metadata": {
            "tags": []
          },
          "execution_count": 442
        }
      ]
    },
    {
      "cell_type": "code",
      "metadata": {
        "id": "SRDminJP6p79",
        "colab_type": "code",
        "outputId": "bef5f62e-72a7-43c0-a06d-4e49d56124f4",
        "colab": {
          "base_uri": "https://localhost:8080/",
          "height": 613
        }
      },
      "source": [
        "# Plotting graph for home arrests in season 2015/2016\n",
        "ax = arrest_df_2015.plot.bar(x='club', y='home', rot=0, label = (\"Arrests\"), figsize = [14,6.5], colors = 'darkblue')\n",
        "plt.xticks(rotation=90)\n",
        "plt.xlabel('Team', fontsize=16)\n",
        "plt.axhline(y=arrest_df_2015[\"home\"].mean(),color='gray',linestyle='--', label='Mean = 11.85')\n",
        "plt.ylabel('Home Arrests', fontsize=16)\n",
        "plt.title('Home Arrests (2015/2016)',fontsize=18)\n",
        "plt.legend()"
      ],
      "execution_count": 0,
      "outputs": [
        {
          "output_type": "stream",
          "text": [
            "/usr/local/lib/python3.6/dist-packages/pandas/plotting/_matplotlib/core.py:203: UserWarning: 'colors' is being deprecated. Please use 'color'instead of 'colors'\n",
            "  \"'colors' is being deprecated. Please use 'color'\"\n"
          ],
          "name": "stderr"
        },
        {
          "output_type": "execute_result",
          "data": {
            "text/plain": [
              "<matplotlib.legend.Legend at 0x7f35ea0a8eb8>"
            ]
          },
          "metadata": {
            "tags": []
          },
          "execution_count": 443
        },
        {
          "output_type": "display_data",
          "data": {
            "image/png": "[encoded data removed]",
            "text/plain": [
              "<Figure size 1008x468 with 1 Axes>"
            ]
          },
          "metadata": {
            "tags": []
          }
        }
      ]
    },
    {
      "cell_type": "code",
      "metadata": {
        "id": "yy_5SH9Tn6FY",
        "colab_type": "code",
        "outputId": "e65fa475-ea78-4243-da1a-97ced8e2aa51",
        "colab": {
          "base_uri": "https://localhost:8080/",
          "height": 609
        }
      },
      "source": [
        "# Final Dataframe\n",
        "final_df = cleaned_df.drop(columns=['sum', 'size', 'Month', 'RefereeBias'])\n",
        "final_df = final_df.rename({'GoalsDifference': 'GoalDifference', 'RefereeReputation': 'RefereeBiasScore'}, axis=1) \n",
        "final_df"
      ],
      "execution_count": 0,
      "outputs": [
        {
          "output_type": "execute_result",
          "data": {
            "text/html": [
              "<div>\n",
              "<style scoped>\n",
              "    .dataframe tbody tr th:only-of-type {\n",
              "        vertical-align: middle;\n",
              "    }\n",
              "\n",
              "    .dataframe tbody tr th {\n",
              "        vertical-align: top;\n",
              "    }\n",
              "\n",
              "    .dataframe thead th {\n",
              "        text-align: right;\n",
              "    }\n",
              "</style>\n",
              "<table border=\"1\" class=\"dataframe\">\n",
              "  <thead>\n",
              "    <tr style=\"text-align: right;\">\n",
              "      <th></th>\n",
              "      <th>Date</th>\n",
              "      <th>HomeTeam</th>\n",
              "      <th>AwayTeam</th>\n",
              "      <th>FTHG</th>\n",
              "      <th>FTAG</th>\n",
              "      <th>FTR</th>\n",
              "      <th>Referee</th>\n",
              "      <th>HF</th>\n",
              "      <th>AF</th>\n",
              "      <th>HY</th>\n",
              "      <th>AY</th>\n",
              "      <th>HR</th>\n",
              "      <th>AR</th>\n",
              "      <th>Season</th>\n",
              "      <th>GoalDifference</th>\n",
              "      <th>FoulDifference</th>\n",
              "      <th>YellowDifference</th>\n",
              "      <th>RedDifference</th>\n",
              "      <th>RefereeBiasScore</th>\n",
              "      <th>EndingSeason</th>\n",
              "    </tr>\n",
              "  </thead>\n",
              "  <tbody>\n",
              "    <tr>\n",
              "      <th>0</th>\n",
              "      <td>2002-08-17</td>\n",
              "      <td>Blackburn</td>\n",
              "      <td>Sunderland</td>\n",
              "      <td>0</td>\n",
              "      <td>0</td>\n",
              "      <td>D</td>\n",
              "      <td>D Elleray</td>\n",
              "      <td>14</td>\n",
              "      <td>11</td>\n",
              "      <td>1</td>\n",
              "      <td>2</td>\n",
              "      <td>0</td>\n",
              "      <td>0</td>\n",
              "      <td>02-03</td>\n",
              "      <td>0</td>\n",
              "      <td>-3</td>\n",
              "      <td>1</td>\n",
              "      <td>0</td>\n",
              "      <td>0.823529</td>\n",
              "      <td>No</td>\n",
              "    </tr>\n",
              "    <tr>\n",
              "      <th>1</th>\n",
              "      <td>2002-08-17</td>\n",
              "      <td>Charlton</td>\n",
              "      <td>Chelsea</td>\n",
              "      <td>2</td>\n",
              "      <td>3</td>\n",
              "      <td>A</td>\n",
              "      <td>G Barber</td>\n",
              "      <td>10</td>\n",
              "      <td>12</td>\n",
              "      <td>0</td>\n",
              "      <td>3</td>\n",
              "      <td>1</td>\n",
              "      <td>0</td>\n",
              "      <td>02-03</td>\n",
              "      <td>-1</td>\n",
              "      <td>2</td>\n",
              "      <td>3</td>\n",
              "      <td>-1</td>\n",
              "      <td>0.450000</td>\n",
              "      <td>No</td>\n",
              "    </tr>\n",
              "    <tr>\n",
              "      <th>2</th>\n",
              "      <td>2002-08-17</td>\n",
              "      <td>Everton</td>\n",
              "      <td>Tottenham</td>\n",
              "      <td>2</td>\n",
              "      <td>2</td>\n",
              "      <td>D</td>\n",
              "      <td>N Barry</td>\n",
              "      <td>18</td>\n",
              "      <td>4</td>\n",
              "      <td>1</td>\n",
              "      <td>1</td>\n",
              "      <td>0</td>\n",
              "      <td>0</td>\n",
              "      <td>02-03</td>\n",
              "      <td>0</td>\n",
              "      <td>-14</td>\n",
              "      <td>0</td>\n",
              "      <td>0</td>\n",
              "      <td>0.557377</td>\n",
              "      <td>No</td>\n",
              "    </tr>\n",
              "    <tr>\n",
              "      <th>3</th>\n",
              "      <td>2002-08-17</td>\n",
              "      <td>Fulham</td>\n",
              "      <td>Bolton</td>\n",
              "      <td>4</td>\n",
              "      <td>1</td>\n",
              "      <td>H</td>\n",
              "      <td>A Wiley</td>\n",
              "      <td>16</td>\n",
              "      <td>12</td>\n",
              "      <td>1</td>\n",
              "      <td>2</td>\n",
              "      <td>0</td>\n",
              "      <td>0</td>\n",
              "      <td>02-03</td>\n",
              "      <td>3</td>\n",
              "      <td>-4</td>\n",
              "      <td>1</td>\n",
              "      <td>0</td>\n",
              "      <td>0.425121</td>\n",
              "      <td>No</td>\n",
              "    </tr>\n",
              "    <tr>\n",
              "      <th>4</th>\n",
              "      <td>2002-08-17</td>\n",
              "      <td>Leeds</td>\n",
              "      <td>Man City</td>\n",
              "      <td>3</td>\n",
              "      <td>0</td>\n",
              "      <td>H</td>\n",
              "      <td>G Poll</td>\n",
              "      <td>13</td>\n",
              "      <td>13</td>\n",
              "      <td>1</td>\n",
              "      <td>1</td>\n",
              "      <td>0</td>\n",
              "      <td>0</td>\n",
              "      <td>02-03</td>\n",
              "      <td>3</td>\n",
              "      <td>0</td>\n",
              "      <td>0</td>\n",
              "      <td>0</td>\n",
              "      <td>0.532374</td>\n",
              "      <td>No</td>\n",
              "    </tr>\n",
              "    <tr>\n",
              "      <th>...</th>\n",
              "      <td>...</td>\n",
              "      <td>...</td>\n",
              "      <td>...</td>\n",
              "      <td>...</td>\n",
              "      <td>...</td>\n",
              "      <td>...</td>\n",
              "      <td>...</td>\n",
              "      <td>...</td>\n",
              "      <td>...</td>\n",
              "      <td>...</td>\n",
              "      <td>...</td>\n",
              "      <td>...</td>\n",
              "      <td>...</td>\n",
              "      <td>...</td>\n",
              "      <td>...</td>\n",
              "      <td>...</td>\n",
              "      <td>...</td>\n",
              "      <td>...</td>\n",
              "      <td>...</td>\n",
              "      <td>...</td>\n",
              "    </tr>\n",
              "    <tr>\n",
              "      <th>6075</th>\n",
              "      <td>2018-05-13</td>\n",
              "      <td>Newcastle</td>\n",
              "      <td>Chelsea</td>\n",
              "      <td>3</td>\n",
              "      <td>0</td>\n",
              "      <td>H</td>\n",
              "      <td>M Atkinson</td>\n",
              "      <td>11</td>\n",
              "      <td>10</td>\n",
              "      <td>0</td>\n",
              "      <td>1</td>\n",
              "      <td>0</td>\n",
              "      <td>0</td>\n",
              "      <td>17-18</td>\n",
              "      <td>3</td>\n",
              "      <td>-1</td>\n",
              "      <td>1</td>\n",
              "      <td>0</td>\n",
              "      <td>0.418338</td>\n",
              "      <td>Yes</td>\n",
              "    </tr>\n",
              "    <tr>\n",
              "      <th>6076</th>\n",
              "      <td>2018-05-13</td>\n",
              "      <td>Southampton</td>\n",
              "      <td>Man City</td>\n",
              "      <td>0</td>\n",
              "      <td>1</td>\n",
              "      <td>A</td>\n",
              "      <td>A Marriner</td>\n",
              "      <td>8</td>\n",
              "      <td>10</td>\n",
              "      <td>3</td>\n",
              "      <td>1</td>\n",
              "      <td>0</td>\n",
              "      <td>0</td>\n",
              "      <td>17-18</td>\n",
              "      <td>-1</td>\n",
              "      <td>2</td>\n",
              "      <td>-2</td>\n",
              "      <td>0</td>\n",
              "      <td>0.436620</td>\n",
              "      <td>Yes</td>\n",
              "    </tr>\n",
              "    <tr>\n",
              "      <th>6077</th>\n",
              "      <td>2018-05-13</td>\n",
              "      <td>Swansea</td>\n",
              "      <td>Stoke</td>\n",
              "      <td>1</td>\n",
              "      <td>2</td>\n",
              "      <td>A</td>\n",
              "      <td>A Taylor</td>\n",
              "      <td>12</td>\n",
              "      <td>9</td>\n",
              "      <td>1</td>\n",
              "      <td>2</td>\n",
              "      <td>0</td>\n",
              "      <td>0</td>\n",
              "      <td>17-18</td>\n",
              "      <td>-1</td>\n",
              "      <td>-3</td>\n",
              "      <td>1</td>\n",
              "      <td>0</td>\n",
              "      <td>0.118557</td>\n",
              "      <td>Yes</td>\n",
              "    </tr>\n",
              "    <tr>\n",
              "      <th>6078</th>\n",
              "      <td>2018-05-13</td>\n",
              "      <td>Tottenham</td>\n",
              "      <td>Leicester</td>\n",
              "      <td>5</td>\n",
              "      <td>4</td>\n",
              "      <td>H</td>\n",
              "      <td>C Pawson</td>\n",
              "      <td>9</td>\n",
              "      <td>13</td>\n",
              "      <td>1</td>\n",
              "      <td>2</td>\n",
              "      <td>0</td>\n",
              "      <td>0</td>\n",
              "      <td>17-18</td>\n",
              "      <td>1</td>\n",
              "      <td>4</td>\n",
              "      <td>1</td>\n",
              "      <td>0</td>\n",
              "      <td>0.453704</td>\n",
              "      <td>Yes</td>\n",
              "    </tr>\n",
              "    <tr>\n",
              "      <th>6079</th>\n",
              "      <td>2018-05-13</td>\n",
              "      <td>West Ham</td>\n",
              "      <td>Everton</td>\n",
              "      <td>3</td>\n",
              "      <td>1</td>\n",
              "      <td>H</td>\n",
              "      <td>G Scott</td>\n",
              "      <td>10</td>\n",
              "      <td>13</td>\n",
              "      <td>0</td>\n",
              "      <td>1</td>\n",
              "      <td>0</td>\n",
              "      <td>0</td>\n",
              "      <td>17-18</td>\n",
              "      <td>2</td>\n",
              "      <td>3</td>\n",
              "      <td>1</td>\n",
              "      <td>0</td>\n",
              "      <td>0.454545</td>\n",
              "      <td>Yes</td>\n",
              "    </tr>\n",
              "  </tbody>\n",
              "</table>\n",
              "<p>6080 rows × 20 columns</p>\n",
              "</div>"
            ],
            "text/plain": [
              "           Date     HomeTeam  ... RefereeBiasScore  EndingSeason\n",
              "0    2002-08-17    Blackburn  ...         0.823529            No\n",
              "1    2002-08-17     Charlton  ...         0.450000            No\n",
              "2    2002-08-17      Everton  ...         0.557377            No\n",
              "3    2002-08-17       Fulham  ...         0.425121            No\n",
              "4    2002-08-17        Leeds  ...         0.532374            No\n",
              "...         ...          ...  ...              ...           ...\n",
              "6075 2018-05-13    Newcastle  ...         0.418338           Yes\n",
              "6076 2018-05-13  Southampton  ...         0.436620           Yes\n",
              "6077 2018-05-13      Swansea  ...         0.118557           Yes\n",
              "6078 2018-05-13    Tottenham  ...         0.453704           Yes\n",
              "6079 2018-05-13     West Ham  ...         0.454545           Yes\n",
              "\n",
              "[6080 rows x 20 columns]"
            ]
          },
          "metadata": {
            "tags": []
          },
          "execution_count": 444
        }
      ]
    }
  ]
}