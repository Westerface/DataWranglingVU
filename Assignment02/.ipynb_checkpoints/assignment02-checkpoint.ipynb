{
 "cells": [
  {
   "cell_type": "markdown",
   "metadata": {},
   "source": [
    "# Assignment 2"
   ]
  },
  {
   "cell_type": "code",
   "execution_count": null,
   "metadata": {},
   "outputs": [],
   "source": [
    "# read neccessary libraries\n",
    "import numpy as np\n",
    "import pandas as pd\n",
    "import matplotlib.pyplot as plt\n",
    "pd.options.display.max_rows = 20\n",
    "np.set_printoptions(precision = 4, suppress = True)"
   ]
  },
  {
   "cell_type": "markdown",
   "metadata": {},
   "source": [
    "### Customer database\n",
    "Given is a table *orders* with product orders, and a table *customers* with customer info. Merge the two tables together such that the remaining table only has orders for which customer info is available. Assign the final table to the variable *sales*."
   ]
  },
  {
   "cell_type": "code",
   "execution_count": null,
   "metadata": {},
   "outputs": [],
   "source": [
    "orders = pd.DataFrame({'OrderID' : [1, 2, 3, 4, 5, 6, 7],\n",
    "                       'CustID' : [1, 4, 3, 4, 1, 4, 5], \n",
    "                       'Amount' : [23.20, 2.30, 12.93, 54.92, 6.12, 9.60, 70.56]})\n",
    "\n",
    "customers = pd.DataFrame({'ID' : [1, 2, 3, 4, 6], \n",
    "                          'First' : [\"Henk\", \"Petra\", \"Sjoerd\", \"Mieke\", \"Sandjai\"], \n",
    "                          'Last' : [\"Janssen\", \"de Klomp\", \"Vermeulen\", \"Sterk\", \"Bhulai\"],\n",
    "                          'City' : [\"Amsterdam\", \"Nijmegen\", \"Maastricht\", \"Amsterdam\", \"Diemen\"]})\n",
    "\n",
    "### BEGIN SOLUTION\n",
    "sales = pd.merge(orders, customers, left_on='CustID', right_on='ID')\n",
    "### END SOLUTION\n",
    "\n",
    "sales"
   ]
  },
  {
   "cell_type": "markdown",
   "metadata": {},
   "source": [
    "The customer ID of \"Sandjai Bhulai\" is wrong. It should be 5 instead of 6. Correct the ID and calculate the sum of the sales values for each city. Assign the resulting table with only the total amount of sales to the variable *sales_per_city*."
   ]
  },
  {
   "cell_type": "code",
   "execution_count": null,
   "metadata": {},
   "outputs": [],
   "source": [
    "### BEGIN SOLUTION\n",
    "new_customers = customers.replace(6, 5)\n",
    "sales = pd.merge(orders, new_customers, left_on='CustID', right_on='ID')\n",
    "sales_per_city = sales.groupby('City').sum()['Amount']\n",
    "### END SOLUTION\n",
    "\n",
    "sales_per_city"
   ]
  },
  {
   "cell_type": "markdown",
   "metadata": {},
   "source": [
    "From the *sales* dataframe, create a new dataframe with as first column the first name (*First*) and the second column the sales amount (*Amount*). Assign this to the variable *new_sales*. Then calculate the total sales amount per person and assign that to the variable *person*. Create a bar plot of the resulting dataframe."
   ]
  },
  {
   "cell_type": "code",
   "execution_count": null,
   "metadata": {},
   "outputs": [],
   "source": [
    "### BEGIN SOLUTION\n",
    "new_sales = sales.reindex(columns=pd.Index(['First', 'Amount']))\n",
    "person = new_sales.groupby('First').sum()\n",
    "fig, ax = plt.subplots()\n",
    "ax.bar(person.index, person.stack())\n",
    "ax.set_xlabel('First name')\n",
    "ax.set_ylabel('Total sales')\n",
    "### END SOLUTION\n",
    "\n",
    "person"
   ]
  },
  {
   "cell_type": "markdown",
   "metadata": {},
   "source": [
    "### Course grades\n",
    "The text that is listed below misses a separator between the courses and the grades. Create a regular expression to extract all the grades from the text and assign that value to the variable *avg_grade*. Note that you may have to cast the number (that are represented as strings) to floating point numbers."
   ]
  },
  {
   "cell_type": "code",
   "execution_count": null,
   "metadata": {},
   "outputs": [],
   "source": [
    "import re\n",
    "text = \"\"\"Data_wrangling8.5\n",
    "Machine_learning9.0\n",
    "Advanced_machine_learning8.0\n",
    "Reinforcement_learning7.5\n",
    "\"\"\"\n",
    "\n",
    "### BEGIN SOLUTION\n",
    "pattern = r'[A-Z_]+([0-9.]+)'\n",
    "### END SOLUTION\n",
    "\n",
    "regex = re.compile(pattern, flags=re.IGNORECASE)\n",
    "result = regex.findall(text)\n",
    "\n",
    "### BEGIN SOLUTION\n",
    "avg_grade = np.mean(list(map(float, result)))\n",
    "### END SOLUTION\n",
    "\n",
    "avg_grade"
   ]
  },
  {
   "cell_type": "markdown",
   "metadata": {},
   "source": [
    "### E-mail\n",
    "Consider the following excerpt from an email. Write a regular expression that extracts the sender, recipient and the subject from the email."
   ]
  },
  {
   "cell_type": "code",
   "execution_count": null,
   "metadata": {},
   "outputs": [],
   "source": [
    "import re\n",
    "text = \"\"\"From: Sandjai\n",
    "To: the students following data wrangling\n",
    "Subject: well done!\n",
    "Body: I congratulate you all with mastering regular expressions.\n",
    "It is a tough subject to learn. Good job.\n",
    "\"\"\"\n",
    "\n",
    "### BEGIN SOLUTION\n",
    "pattern = r'From: (.+)\\s*To: (.+)\\s*Subject: (.+)\\s*Body:\\s+'\n",
    "### END SOLUTION\n",
    "\n",
    "regex = re.compile(pattern, flags=re.IGNORECASE)\n",
    "result = regex.match(text).groups()\n",
    "\n",
    "print('{} says \"{}\" to {}'.format(result[0], result[2], result[1]))"
   ]
  },
  {
   "cell_type": "markdown",
   "metadata": {},
   "source": [
    "### Orange juice\n",
    "The file below contains sales data on three brands of orange juice over different weeks over different stores. Find out which store number has the highest and lowest mean income (using the variable *INCOME*). Assign the store numbers to the variables *max_store* and *min_store*, respectively.\n"
   ]
  },
  {
   "cell_type": "code",
   "execution_count": null,
   "metadata": {},
   "outputs": [],
   "source": [
    "oj = pd.read_csv('oj.csv')\n",
    "\n",
    "### BEGIN SOLUTION\n",
    "income = oj.groupby('store')['INCOME'].mean()\n",
    "max_store = pd.Series(income).idxmax()\n",
    "min_store = pd.Series(income).idxmin()\n",
    "### END SOLUTION\n",
    "\n",
    "print(max_store)\n",
    "print(min_store)"
   ]
  },
  {
   "cell_type": "markdown",
   "metadata": {},
   "source": [
    "Create a dataframe with two rows (one for the best store *max_store*, and one for the worst store *min_store*). The columns are the weeks *week* of the orange juice dataset. The values in the dataframe are the sum of the sales (*logmove*) of all three brands. Assign the dataframe to the variable *store_sales*. Then create a plot of the sales with on the x-axis the weeks, and on the y-axis the sum of the sales (the sum of the *logmove*)."
   ]
  },
  {
   "cell_type": "code",
   "execution_count": null,
   "metadata": {},
   "outputs": [],
   "source": [
    "### BEGIN SOLUTION\n",
    "sales = oj.pivot_table('logmove', index=['store'], columns='week', aggfunc='sum')\n",
    "store_sales = sales.loc[[max_store, min_store]]\n",
    "store_sales.T.plot()\n",
    "### END SOLUTION\n",
    "\n",
    "store_sales"
   ]
  },
  {
   "cell_type": "markdown",
   "metadata": {},
   "source": [
    "The previous picture does not explain why the best store does better than the worst store. Let study if the price influences the sales. Prepare a dataframe with two columns (the column *price* and the column *logmove*), with records only related to *max_store*. Assign this dataframe to variable *oj1*. Also create a table with the *price* and *logmove* with only records for store *min_store*. Assign this dataframe to variable *oj2*. "
   ]
  },
  {
   "cell_type": "code",
   "execution_count": null,
   "metadata": {},
   "outputs": [],
   "source": [
    "import statsmodels.api as sm\n",
    "\n",
    "### BEGIN SOLUTION\n",
    "oj1 = oj[oj['store'] == max_store][['price', 'logmove']]\n",
    "oj2 = oj[oj['store'] == min_store][['price', 'logmove']]\n",
    "### END SOLUTION\n",
    "\n",
    "fit1 = sm.OLS(oj1['logmove'], sm.add_constant(oj1['price'])).fit()\n",
    "fit2 = sm.OLS(oj2['logmove'], sm.add_constant(oj2['price'])).fit()\n",
    "\n",
    "print(fit1.params)\n",
    "print(fit2.params)"
   ]
  },
  {
   "cell_type": "markdown",
   "metadata": {},
   "source": [
    "The previous analysis explains the difference between the two stores. The best store has almost no sensitivity to the price. The worst store has a high negative sensitivity to the price. Hence, the best store can charge higher prices than the worst store.\n",
    "\n",
    "Let us now see which brand is the most popular. Create a dataframe in with the three brands (*brand*) and the total number of the sales (sum of *logmove*). Assign the result to the variable *brand_sales*."
   ]
  },
  {
   "cell_type": "code",
   "execution_count": null,
   "metadata": {},
   "outputs": [],
   "source": [
    "### BEGIN SOLUTION\n",
    "brand_sales = oj.groupby('brand')['logmove'].sum()\n",
    "### END SOLUTION\n",
    "\n",
    "brand_sales"
   ]
  },
  {
   "cell_type": "markdown",
   "metadata": {},
   "source": [
    "The column *feat* determines if the orange juice is on sale. Create a table with as row the different brands of orange juice (*brand*) and as columns the indicator for the sale (*feat*). The values in the table contain the mean price of the specific orange juices. Assign the value to the variable *featured*."
   ]
  },
  {
   "cell_type": "code",
   "execution_count": null,
   "metadata": {},
   "outputs": [],
   "source": [
    "### BEGIN SOLUTION\n",
    "featured = oj.pivot_table('price', index=['brand'], columns='feat', aggfunc='mean')\n",
    "### END SOLUTION\n",
    "\n",
    "featured"
   ]
  }
 ],
 "metadata": {
  "celltoolbar": "Create Assignment",
  "kernelspec": {
   "display_name": "Python 3",
   "language": "python",
   "name": "python3"
  },
  "language_info": {
   "codemirror_mode": {
    "name": "ipython",
    "version": 3
   },
   "file_extension": ".py",
   "mimetype": "text/x-python",
   "name": "python",
   "nbconvert_exporter": "python",
   "pygments_lexer": "ipython3",
   "version": "3.6.4"
  }
 },
 "nbformat": 4,
 "nbformat_minor": 2
}
